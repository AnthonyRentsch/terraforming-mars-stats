{
 "cells": [
  {
   "cell_type": "code",
   "execution_count": 47,
   "metadata": {},
   "outputs": [],
   "source": [
    "import pandas as pd\n",
    "import numpy as np\n",
    "import matplotlib.pyplot as plt\n",
    "import seaborn as sns\n",
    "\n",
    "import plotly.figure_factory as ff\n",
    "from plotly.subplots import make_subplots\n",
    "import plotly.graph_objs as go\n",
    "\n",
    "pd.options.mode.chained_assignment = None"
   ]
  },
  {
   "cell_type": "code",
   "execution_count": 2,
   "metadata": {},
   "outputs": [],
   "source": [
    "df = pd.read_csv('../terraforming-mars-stats.csv')\n",
    "unique_sorted_game_ids = pd.Series([x for _,x in sorted(zip(df.date, df.game_id), reverse=True)]).unique() # for time-based stuff"
   ]
  },
  {
   "cell_type": "markdown",
   "metadata": {},
   "source": [
    "# Summary"
   ]
  },
  {
   "cell_type": "code",
   "execution_count": 4,
   "metadata": {},
   "outputs": [
    {
     "data": {
      "text/html": [
       "<div>\n",
       "<style scoped>\n",
       "    .dataframe tbody tr th:only-of-type {\n",
       "        vertical-align: middle;\n",
       "    }\n",
       "\n",
       "    .dataframe tbody tr th {\n",
       "        vertical-align: top;\n",
       "    }\n",
       "\n",
       "    .dataframe thead th {\n",
       "        text-align: right;\n",
       "    }\n",
       "</style>\n",
       "<table border=\"1\" class=\"dataframe\">\n",
       "  <thead>\n",
       "    <tr style=\"text-align: right;\">\n",
       "      <th></th>\n",
       "      <th>wins</th>\n",
       "      <th>games</th>\n",
       "      <th>win_rate</th>\n",
       "    </tr>\n",
       "    <tr>\n",
       "      <th>player</th>\n",
       "      <th></th>\n",
       "      <th></th>\n",
       "      <th></th>\n",
       "    </tr>\n",
       "  </thead>\n",
       "  <tbody>\n",
       "    <tr>\n",
       "      <th>Meister</th>\n",
       "      <td>1</td>\n",
       "      <td>1</td>\n",
       "      <td>1.000000</td>\n",
       "    </tr>\n",
       "    <tr>\n",
       "      <th>Pat</th>\n",
       "      <td>26</td>\n",
       "      <td>71</td>\n",
       "      <td>0.366197</td>\n",
       "    </tr>\n",
       "    <tr>\n",
       "      <th>Ezra</th>\n",
       "      <td>38</td>\n",
       "      <td>105</td>\n",
       "      <td>0.361905</td>\n",
       "    </tr>\n",
       "    <tr>\n",
       "      <th>Ben</th>\n",
       "      <td>52</td>\n",
       "      <td>147</td>\n",
       "      <td>0.353741</td>\n",
       "    </tr>\n",
       "    <tr>\n",
       "      <th>Matt</th>\n",
       "      <td>36</td>\n",
       "      <td>123</td>\n",
       "      <td>0.292683</td>\n",
       "    </tr>\n",
       "    <tr>\n",
       "      <th>Tony</th>\n",
       "      <td>31</td>\n",
       "      <td>107</td>\n",
       "      <td>0.289720</td>\n",
       "    </tr>\n",
       "    <tr>\n",
       "      <th>Katie</th>\n",
       "      <td>1</td>\n",
       "      <td>4</td>\n",
       "      <td>0.250000</td>\n",
       "    </tr>\n",
       "    <tr>\n",
       "      <th>Annie</th>\n",
       "      <td>0</td>\n",
       "      <td>1</td>\n",
       "      <td>0.000000</td>\n",
       "    </tr>\n",
       "    <tr>\n",
       "      <th>Hank</th>\n",
       "      <td>0</td>\n",
       "      <td>1</td>\n",
       "      <td>0.000000</td>\n",
       "    </tr>\n",
       "    <tr>\n",
       "      <th>Logan</th>\n",
       "      <td>0</td>\n",
       "      <td>1</td>\n",
       "      <td>0.000000</td>\n",
       "    </tr>\n",
       "    <tr>\n",
       "      <th>Patsy</th>\n",
       "      <td>0</td>\n",
       "      <td>1</td>\n",
       "      <td>0.000000</td>\n",
       "    </tr>\n",
       "    <tr>\n",
       "      <th>Stephen</th>\n",
       "      <td>0</td>\n",
       "      <td>2</td>\n",
       "      <td>0.000000</td>\n",
       "    </tr>\n",
       "    <tr>\n",
       "      <th>Tom</th>\n",
       "      <td>0</td>\n",
       "      <td>1</td>\n",
       "      <td>0.000000</td>\n",
       "    </tr>\n",
       "  </tbody>\n",
       "</table>\n",
       "</div>"
      ],
      "text/plain": [
       "         wins  games  win_rate\n",
       "player                        \n",
       "Meister     1      1  1.000000\n",
       "Pat        26     71  0.366197\n",
       "Ezra       38    105  0.361905\n",
       "Ben        52    147  0.353741\n",
       "Matt       36    123  0.292683\n",
       "Tony       31    107  0.289720\n",
       "Katie       1      4  0.250000\n",
       "Annie       0      1  0.000000\n",
       "Hank        0      1  0.000000\n",
       "Logan       0      1  0.000000\n",
       "Patsy       0      1  0.000000\n",
       "Stephen     0      2  0.000000\n",
       "Tom         0      1  0.000000"
      ]
     },
     "execution_count": 4,
     "metadata": {},
     "output_type": "execute_result"
    }
   ],
   "source": [
    "df.groupby('player').\\\n",
    "agg(wins = ('is_winner','sum'), games = ('is_winner', 'count'), win_rate = ('is_winner','mean')).\\\n",
    "sort_values(by='win_rate', ascending=False)"
   ]
  },
  {
   "cell_type": "markdown",
   "metadata": {},
   "source": [
    "# Individual Player Summary"
   ]
  },
  {
   "cell_type": "code",
   "execution_count": 76,
   "metadata": {},
   "outputs": [],
   "source": [
    "player = 'Ezra'\n",
    "player_df = df[df.player == player]"
   ]
  },
  {
   "cell_type": "code",
   "execution_count": 77,
   "metadata": {},
   "outputs": [
    {
     "data": {
      "text/html": [
       "<div>\n",
       "<style scoped>\n",
       "    .dataframe tbody tr th:only-of-type {\n",
       "        vertical-align: middle;\n",
       "    }\n",
       "\n",
       "    .dataframe tbody tr th {\n",
       "        vertical-align: top;\n",
       "    }\n",
       "\n",
       "    .dataframe thead th {\n",
       "        text-align: right;\n",
       "    }\n",
       "</style>\n",
       "<table border=\"1\" class=\"dataframe\">\n",
       "  <thead>\n",
       "    <tr style=\"text-align: right;\">\n",
       "      <th></th>\n",
       "      <th>wins</th>\n",
       "      <th>games</th>\n",
       "      <th>win_rate</th>\n",
       "    </tr>\n",
       "    <tr>\n",
       "      <th>player</th>\n",
       "      <th></th>\n",
       "      <th></th>\n",
       "      <th></th>\n",
       "    </tr>\n",
       "  </thead>\n",
       "  <tbody>\n",
       "    <tr>\n",
       "      <th>Ezra</th>\n",
       "      <td>38</td>\n",
       "      <td>105</td>\n",
       "      <td>0.361905</td>\n",
       "    </tr>\n",
       "  </tbody>\n",
       "</table>\n",
       "</div>"
      ],
      "text/plain": [
       "        wins  games  win_rate\n",
       "player                       \n",
       "Ezra      38    105  0.361905"
      ]
     },
     "execution_count": 77,
     "metadata": {},
     "output_type": "execute_result"
    }
   ],
   "source": [
    "# player history\n",
    "player_df.groupby('player').\\\n",
    "agg(wins = ('is_winner','sum'), games = ('is_winner', 'count'), win_rate = ('is_winner','mean'))"
   ]
  },
  {
   "cell_type": "code",
   "execution_count": 78,
   "metadata": {},
   "outputs": [],
   "source": [
    "# most recent win\n",
    "player_most_recent_win_game_id = player_df[player_df['is_winner']==1].sort_values(by='date', ascending=False).head(1)['game_id'].values[0]\n",
    "player_most_recent_win_df = df[df.game_id == player_most_recent_win_game_id]"
   ]
  },
  {
   "cell_type": "code",
   "execution_count": 86,
   "metadata": {},
   "outputs": [
    {
     "data": {
      "application/vnd.plotly.v1+json": {
       "config": {
        "plotlyServerURL": "https://plot.ly"
       },
       "data": [
        {
         "autobinx": false,
         "histnorm": "probability density",
         "legendgroup": "Ezra",
         "marker": {
          "color": "blue"
         },
         "name": "Ezra",
         "opacity": 0.7,
         "type": "histogram",
         "x": [
          9,
          12,
          22,
          16,
          23,
          30,
          21,
          6,
          23,
          23
         ],
         "xaxis": "x",
         "xbins": {
          "end": 30,
          "size": 5,
          "start": 6
         },
         "yaxis": "y"
        },
        {
         "autobinx": false,
         "histnorm": "probability density",
         "legendgroup": "Field",
         "marker": {
          "color": "grey"
         },
         "name": "Field",
         "opacity": 0.7,
         "type": "histogram",
         "x": [
          46,
          48,
          41,
          33,
          52,
          45,
          22,
          57,
          42,
          15,
          10,
          56,
          29,
          50,
          18,
          24,
          46,
          20,
          18,
          26,
          44,
          52,
          35,
          38,
          12,
          12,
          120,
          67,
          120,
          67,
          34,
          26,
          50,
          49,
          14,
          35,
          36,
          12,
          9,
          5,
          16,
          27,
          36,
          27,
          31,
          59,
          15,
          34,
          53,
          38,
          22,
          26,
          19,
          52,
          12,
          6,
          14,
          23,
          14,
          20,
          21,
          27,
          20,
          22,
          16,
          51
         ],
         "xaxis": "x",
         "xbins": {
          "end": 120,
          "size": 5,
          "start": 5
         },
         "yaxis": "y"
        },
        {
         "autobinx": false,
         "histnorm": "probability density",
         "legendgroup": "Ezra",
         "marker": {
          "color": "blue"
         },
         "name": "Ezra",
         "opacity": 0.7,
         "showlegend": false,
         "type": "histogram",
         "x": [
          19,
          15,
          12,
          9,
          10,
          19,
          13,
          17,
          19,
          14,
          6,
          28,
          21,
          9,
          20,
          20,
          8,
          10,
          15,
          15,
          21,
          7,
          2,
          24,
          10,
          19,
          11,
          31,
          23,
          21,
          9,
          24,
          13,
          8,
          7,
          6,
          17,
          17,
          16,
          10,
          24,
          39,
          15
         ],
         "xaxis": "x2",
         "xbins": {
          "end": 39,
          "size": 5,
          "start": 2
         },
         "yaxis": "y2"
        },
        {
         "autobinx": false,
         "histnorm": "probability density",
         "legendgroup": "Field",
         "marker": {
          "color": "grey"
         },
         "name": "Field",
         "opacity": 0.7,
         "showlegend": false,
         "type": "histogram",
         "x": [
          23,
          44,
          42,
          26,
          31,
          6,
          17,
          18,
          30,
          51,
          39,
          15,
          15,
          28,
          13,
          30,
          4,
          12,
          11,
          25,
          51,
          33,
          41,
          34,
          24,
          36,
          25,
          10,
          11,
          7,
          46,
          6,
          17,
          48,
          19,
          61,
          18,
          48,
          56,
          33,
          33,
          31,
          20,
          33,
          7,
          45,
          17,
          32,
          21,
          42,
          21,
          47,
          17,
          32,
          36,
          11,
          53,
          28,
          27,
          17,
          16,
          31,
          56,
          40,
          47,
          7,
          44,
          22,
          52,
          27,
          9,
          63,
          20,
          14,
          14,
          28,
          40,
          89,
          35,
          43,
          34,
          47,
          21,
          18,
          15,
          13,
          22,
          12,
          24,
          15,
          18,
          28,
          30,
          44,
          8,
          15,
          48,
          21,
          16,
          29,
          26,
          20,
          8,
          38,
          35,
          22,
          34,
          6,
          54,
          41,
          9,
          -2,
          38,
          32,
          40,
          35,
          29,
          50,
          19,
          24,
          17,
          25,
          38,
          15,
          13,
          6,
          14,
          6,
          20,
          17,
          16,
          12,
          20,
          10,
          22,
          12,
          23,
          11,
          24,
          10,
          3,
          23,
          7,
          8,
          5,
          26,
          12,
          4,
          8,
          24,
          19,
          24,
          26,
          23,
          7,
          18,
          11,
          14,
          25,
          25,
          7,
          14,
          19,
          10,
          13,
          20,
          11,
          6,
          36,
          9,
          14,
          4,
          10,
          10,
          15,
          19,
          19,
          12,
          11,
          10,
          20,
          30,
          34,
          20,
          6,
          18,
          7,
          24,
          16,
          32,
          17
         ],
         "xaxis": "x2",
         "xbins": {
          "end": 89,
          "size": 5,
          "start": -2
         },
         "yaxis": "y2"
        },
        {
         "autobinx": false,
         "histnorm": "probability density",
         "legendgroup": "Ezra",
         "marker": {
          "color": "blue"
         },
         "name": "Ezra",
         "opacity": 0.7,
         "showlegend": false,
         "type": "histogram",
         "x": [
          9,
          12,
          15,
          32,
          8,
          23,
          16,
          21,
          21,
          4,
          6,
          22,
          9,
          38,
          9,
          15,
          9,
          11,
          24,
          6,
          9,
          12,
          24,
          14,
          26,
          4,
          16,
          9,
          4,
          11,
          15,
          8,
          9,
          10,
          1,
          8,
          22,
          13,
          15,
          13,
          7,
          7,
          7,
          14,
          18
         ],
         "xaxis": "x3",
         "xbins": {
          "end": 38,
          "size": 5,
          "start": 1
         },
         "yaxis": "y3"
        },
        {
         "autobinx": false,
         "histnorm": "probability density",
         "legendgroup": "Field",
         "marker": {
          "color": "grey"
         },
         "name": "Field",
         "opacity": 0.7,
         "showlegend": false,
         "type": "histogram",
         "x": [
          22,
          19,
          6,
          7,
          10,
          19,
          7,
          17,
          24,
          27,
          26,
          26,
          22,
          13,
          5,
          31,
          6,
          16,
          14,
          2,
          16,
          16,
          17,
          37,
          27,
          13,
          25,
          14,
          6,
          6,
          7,
          6,
          44,
          16,
          67,
          23,
          33,
          28,
          48,
          7,
          9,
          21,
          1,
          2,
          9,
          7,
          18,
          24,
          2,
          6,
          19,
          4,
          12,
          10,
          62,
          6,
          10,
          62,
          6,
          22,
          24,
          13,
          6,
          37,
          13,
          12,
          17,
          18,
          30,
          15,
          1,
          20,
          50,
          10,
          3,
          7,
          34,
          6,
          2,
          13,
          12,
          8,
          11,
          11,
          32,
          6,
          30,
          13,
          14,
          29,
          16,
          9,
          5,
          7,
          26,
          26,
          14,
          22,
          30,
          16,
          7,
          30,
          18,
          16,
          12,
          7,
          11,
          44,
          44,
          5,
          14,
          10,
          -3,
          28,
          19,
          7,
          10,
          39,
          11,
          12,
          6,
          3,
          6,
          3,
          1,
          23,
          5,
          12,
          8,
          9,
          5,
          4,
          6,
          20,
          7,
          10,
          9,
          7,
          6,
          8,
          7,
          7,
          12,
          5,
          34,
          14,
          20,
          54,
          24,
          11,
          0,
          6,
          13,
          17,
          22,
          21,
          7,
          27,
          13,
          40,
          12,
          15,
          7,
          11,
          24,
          17,
          25,
          3,
          25,
          13,
          12,
          33,
          34,
          11,
          5
         ],
         "xaxis": "x3",
         "xbins": {
          "end": 67,
          "size": 5,
          "start": -3
         },
         "yaxis": "y3"
        },
        {
         "autobinx": false,
         "histnorm": "probability density",
         "legendgroup": "Ezra",
         "marker": {
          "color": "blue"
         },
         "name": "Ezra",
         "opacity": 0.7,
         "showlegend": false,
         "type": "histogram",
         "x": [
          7,
          9,
          11,
          8,
          3,
          16,
          11
         ],
         "xaxis": "x4",
         "xbins": {
          "end": 16,
          "size": 5,
          "start": 3
         },
         "yaxis": "y4"
        },
        {
         "autobinx": false,
         "histnorm": "probability density",
         "legendgroup": "Field",
         "marker": {
          "color": "grey"
         },
         "name": "Field",
         "opacity": 0.7,
         "showlegend": false,
         "type": "histogram",
         "x": [
          25,
          0,
          15,
          14,
          21,
          18,
          27,
          17,
          4,
          7,
          10,
          5,
          1,
          18,
          26,
          4,
          2,
          14,
          3,
          10,
          5,
          9,
          5,
          10,
          3,
          1,
          17,
          19
         ],
         "xaxis": "x4",
         "xbins": {
          "end": 27,
          "size": 5,
          "start": 0
         },
         "yaxis": "y4"
        }
       ],
       "layout": {
        "annotations": [
         {
          "font": {
           "size": 16
          },
          "showarrow": false,
          "text": "2-player",
          "x": 0.10625,
          "xanchor": "center",
          "xref": "paper",
          "y": 1,
          "yanchor": "bottom",
          "yref": "paper"
         },
         {
          "font": {
           "size": 16
          },
          "showarrow": false,
          "text": "3-player",
          "x": 0.36875,
          "xanchor": "center",
          "xref": "paper",
          "y": 1,
          "yanchor": "bottom",
          "yref": "paper"
         },
         {
          "font": {
           "size": 16
          },
          "showarrow": false,
          "text": "4-player",
          "x": 0.6312500000000001,
          "xanchor": "center",
          "xref": "paper",
          "y": 1,
          "yanchor": "bottom",
          "yref": "paper"
         },
         {
          "font": {
           "size": 16
          },
          "showarrow": false,
          "text": "5-player",
          "x": 0.89375,
          "xanchor": "center",
          "xref": "paper",
          "y": 1,
          "yanchor": "bottom",
          "yref": "paper"
         }
        ],
        "plot_bgcolor": "rgba(0,0,0,0)",
        "template": {
         "data": {
          "bar": [
           {
            "error_x": {
             "color": "#2a3f5f"
            },
            "error_y": {
             "color": "#2a3f5f"
            },
            "marker": {
             "line": {
              "color": "#E5ECF6",
              "width": 0.5
             },
             "pattern": {
              "fillmode": "overlay",
              "size": 10,
              "solidity": 0.2
             }
            },
            "type": "bar"
           }
          ],
          "barpolar": [
           {
            "marker": {
             "line": {
              "color": "#E5ECF6",
              "width": 0.5
             },
             "pattern": {
              "fillmode": "overlay",
              "size": 10,
              "solidity": 0.2
             }
            },
            "type": "barpolar"
           }
          ],
          "carpet": [
           {
            "aaxis": {
             "endlinecolor": "#2a3f5f",
             "gridcolor": "white",
             "linecolor": "white",
             "minorgridcolor": "white",
             "startlinecolor": "#2a3f5f"
            },
            "baxis": {
             "endlinecolor": "#2a3f5f",
             "gridcolor": "white",
             "linecolor": "white",
             "minorgridcolor": "white",
             "startlinecolor": "#2a3f5f"
            },
            "type": "carpet"
           }
          ],
          "choropleth": [
           {
            "colorbar": {
             "outlinewidth": 0,
             "ticks": ""
            },
            "type": "choropleth"
           }
          ],
          "contour": [
           {
            "colorbar": {
             "outlinewidth": 0,
             "ticks": ""
            },
            "colorscale": [
             [
              0,
              "#0d0887"
             ],
             [
              0.1111111111111111,
              "#46039f"
             ],
             [
              0.2222222222222222,
              "#7201a8"
             ],
             [
              0.3333333333333333,
              "#9c179e"
             ],
             [
              0.4444444444444444,
              "#bd3786"
             ],
             [
              0.5555555555555556,
              "#d8576b"
             ],
             [
              0.6666666666666666,
              "#ed7953"
             ],
             [
              0.7777777777777778,
              "#fb9f3a"
             ],
             [
              0.8888888888888888,
              "#fdca26"
             ],
             [
              1,
              "#f0f921"
             ]
            ],
            "type": "contour"
           }
          ],
          "contourcarpet": [
           {
            "colorbar": {
             "outlinewidth": 0,
             "ticks": ""
            },
            "type": "contourcarpet"
           }
          ],
          "heatmap": [
           {
            "colorbar": {
             "outlinewidth": 0,
             "ticks": ""
            },
            "colorscale": [
             [
              0,
              "#0d0887"
             ],
             [
              0.1111111111111111,
              "#46039f"
             ],
             [
              0.2222222222222222,
              "#7201a8"
             ],
             [
              0.3333333333333333,
              "#9c179e"
             ],
             [
              0.4444444444444444,
              "#bd3786"
             ],
             [
              0.5555555555555556,
              "#d8576b"
             ],
             [
              0.6666666666666666,
              "#ed7953"
             ],
             [
              0.7777777777777778,
              "#fb9f3a"
             ],
             [
              0.8888888888888888,
              "#fdca26"
             ],
             [
              1,
              "#f0f921"
             ]
            ],
            "type": "heatmap"
           }
          ],
          "heatmapgl": [
           {
            "colorbar": {
             "outlinewidth": 0,
             "ticks": ""
            },
            "colorscale": [
             [
              0,
              "#0d0887"
             ],
             [
              0.1111111111111111,
              "#46039f"
             ],
             [
              0.2222222222222222,
              "#7201a8"
             ],
             [
              0.3333333333333333,
              "#9c179e"
             ],
             [
              0.4444444444444444,
              "#bd3786"
             ],
             [
              0.5555555555555556,
              "#d8576b"
             ],
             [
              0.6666666666666666,
              "#ed7953"
             ],
             [
              0.7777777777777778,
              "#fb9f3a"
             ],
             [
              0.8888888888888888,
              "#fdca26"
             ],
             [
              1,
              "#f0f921"
             ]
            ],
            "type": "heatmapgl"
           }
          ],
          "histogram": [
           {
            "marker": {
             "pattern": {
              "fillmode": "overlay",
              "size": 10,
              "solidity": 0.2
             }
            },
            "type": "histogram"
           }
          ],
          "histogram2d": [
           {
            "colorbar": {
             "outlinewidth": 0,
             "ticks": ""
            },
            "colorscale": [
             [
              0,
              "#0d0887"
             ],
             [
              0.1111111111111111,
              "#46039f"
             ],
             [
              0.2222222222222222,
              "#7201a8"
             ],
             [
              0.3333333333333333,
              "#9c179e"
             ],
             [
              0.4444444444444444,
              "#bd3786"
             ],
             [
              0.5555555555555556,
              "#d8576b"
             ],
             [
              0.6666666666666666,
              "#ed7953"
             ],
             [
              0.7777777777777778,
              "#fb9f3a"
             ],
             [
              0.8888888888888888,
              "#fdca26"
             ],
             [
              1,
              "#f0f921"
             ]
            ],
            "type": "histogram2d"
           }
          ],
          "histogram2dcontour": [
           {
            "colorbar": {
             "outlinewidth": 0,
             "ticks": ""
            },
            "colorscale": [
             [
              0,
              "#0d0887"
             ],
             [
              0.1111111111111111,
              "#46039f"
             ],
             [
              0.2222222222222222,
              "#7201a8"
             ],
             [
              0.3333333333333333,
              "#9c179e"
             ],
             [
              0.4444444444444444,
              "#bd3786"
             ],
             [
              0.5555555555555556,
              "#d8576b"
             ],
             [
              0.6666666666666666,
              "#ed7953"
             ],
             [
              0.7777777777777778,
              "#fb9f3a"
             ],
             [
              0.8888888888888888,
              "#fdca26"
             ],
             [
              1,
              "#f0f921"
             ]
            ],
            "type": "histogram2dcontour"
           }
          ],
          "mesh3d": [
           {
            "colorbar": {
             "outlinewidth": 0,
             "ticks": ""
            },
            "type": "mesh3d"
           }
          ],
          "parcoords": [
           {
            "line": {
             "colorbar": {
              "outlinewidth": 0,
              "ticks": ""
             }
            },
            "type": "parcoords"
           }
          ],
          "pie": [
           {
            "automargin": true,
            "type": "pie"
           }
          ],
          "scatter": [
           {
            "marker": {
             "colorbar": {
              "outlinewidth": 0,
              "ticks": ""
             }
            },
            "type": "scatter"
           }
          ],
          "scatter3d": [
           {
            "line": {
             "colorbar": {
              "outlinewidth": 0,
              "ticks": ""
             }
            },
            "marker": {
             "colorbar": {
              "outlinewidth": 0,
              "ticks": ""
             }
            },
            "type": "scatter3d"
           }
          ],
          "scattercarpet": [
           {
            "marker": {
             "colorbar": {
              "outlinewidth": 0,
              "ticks": ""
             }
            },
            "type": "scattercarpet"
           }
          ],
          "scattergeo": [
           {
            "marker": {
             "colorbar": {
              "outlinewidth": 0,
              "ticks": ""
             }
            },
            "type": "scattergeo"
           }
          ],
          "scattergl": [
           {
            "marker": {
             "colorbar": {
              "outlinewidth": 0,
              "ticks": ""
             }
            },
            "type": "scattergl"
           }
          ],
          "scattermapbox": [
           {
            "marker": {
             "colorbar": {
              "outlinewidth": 0,
              "ticks": ""
             }
            },
            "type": "scattermapbox"
           }
          ],
          "scatterpolar": [
           {
            "marker": {
             "colorbar": {
              "outlinewidth": 0,
              "ticks": ""
             }
            },
            "type": "scatterpolar"
           }
          ],
          "scatterpolargl": [
           {
            "marker": {
             "colorbar": {
              "outlinewidth": 0,
              "ticks": ""
             }
            },
            "type": "scatterpolargl"
           }
          ],
          "scatterternary": [
           {
            "marker": {
             "colorbar": {
              "outlinewidth": 0,
              "ticks": ""
             }
            },
            "type": "scatterternary"
           }
          ],
          "surface": [
           {
            "colorbar": {
             "outlinewidth": 0,
             "ticks": ""
            },
            "colorscale": [
             [
              0,
              "#0d0887"
             ],
             [
              0.1111111111111111,
              "#46039f"
             ],
             [
              0.2222222222222222,
              "#7201a8"
             ],
             [
              0.3333333333333333,
              "#9c179e"
             ],
             [
              0.4444444444444444,
              "#bd3786"
             ],
             [
              0.5555555555555556,
              "#d8576b"
             ],
             [
              0.6666666666666666,
              "#ed7953"
             ],
             [
              0.7777777777777778,
              "#fb9f3a"
             ],
             [
              0.8888888888888888,
              "#fdca26"
             ],
             [
              1,
              "#f0f921"
             ]
            ],
            "type": "surface"
           }
          ],
          "table": [
           {
            "cells": {
             "fill": {
              "color": "#EBF0F8"
             },
             "line": {
              "color": "white"
             }
            },
            "header": {
             "fill": {
              "color": "#C8D4E3"
             },
             "line": {
              "color": "white"
             }
            },
            "type": "table"
           }
          ]
         },
         "layout": {
          "annotationdefaults": {
           "arrowcolor": "#2a3f5f",
           "arrowhead": 0,
           "arrowwidth": 1
          },
          "autotypenumbers": "strict",
          "coloraxis": {
           "colorbar": {
            "outlinewidth": 0,
            "ticks": ""
           }
          },
          "colorscale": {
           "diverging": [
            [
             0,
             "#8e0152"
            ],
            [
             0.1,
             "#c51b7d"
            ],
            [
             0.2,
             "#de77ae"
            ],
            [
             0.3,
             "#f1b6da"
            ],
            [
             0.4,
             "#fde0ef"
            ],
            [
             0.5,
             "#f7f7f7"
            ],
            [
             0.6,
             "#e6f5d0"
            ],
            [
             0.7,
             "#b8e186"
            ],
            [
             0.8,
             "#7fbc41"
            ],
            [
             0.9,
             "#4d9221"
            ],
            [
             1,
             "#276419"
            ]
           ],
           "sequential": [
            [
             0,
             "#0d0887"
            ],
            [
             0.1111111111111111,
             "#46039f"
            ],
            [
             0.2222222222222222,
             "#7201a8"
            ],
            [
             0.3333333333333333,
             "#9c179e"
            ],
            [
             0.4444444444444444,
             "#bd3786"
            ],
            [
             0.5555555555555556,
             "#d8576b"
            ],
            [
             0.6666666666666666,
             "#ed7953"
            ],
            [
             0.7777777777777778,
             "#fb9f3a"
            ],
            [
             0.8888888888888888,
             "#fdca26"
            ],
            [
             1,
             "#f0f921"
            ]
           ],
           "sequentialminus": [
            [
             0,
             "#0d0887"
            ],
            [
             0.1111111111111111,
             "#46039f"
            ],
            [
             0.2222222222222222,
             "#7201a8"
            ],
            [
             0.3333333333333333,
             "#9c179e"
            ],
            [
             0.4444444444444444,
             "#bd3786"
            ],
            [
             0.5555555555555556,
             "#d8576b"
            ],
            [
             0.6666666666666666,
             "#ed7953"
            ],
            [
             0.7777777777777778,
             "#fb9f3a"
            ],
            [
             0.8888888888888888,
             "#fdca26"
            ],
            [
             1,
             "#f0f921"
            ]
           ]
          },
          "colorway": [
           "#636efa",
           "#EF553B",
           "#00cc96",
           "#ab63fa",
           "#FFA15A",
           "#19d3f3",
           "#FF6692",
           "#B6E880",
           "#FF97FF",
           "#FECB52"
          ],
          "font": {
           "color": "#2a3f5f"
          },
          "geo": {
           "bgcolor": "white",
           "lakecolor": "white",
           "landcolor": "#E5ECF6",
           "showlakes": true,
           "showland": true,
           "subunitcolor": "white"
          },
          "hoverlabel": {
           "align": "left"
          },
          "hovermode": "closest",
          "mapbox": {
           "style": "light"
          },
          "paper_bgcolor": "white",
          "plot_bgcolor": "#E5ECF6",
          "polar": {
           "angularaxis": {
            "gridcolor": "white",
            "linecolor": "white",
            "ticks": ""
           },
           "bgcolor": "#E5ECF6",
           "radialaxis": {
            "gridcolor": "white",
            "linecolor": "white",
            "ticks": ""
           }
          },
          "scene": {
           "xaxis": {
            "backgroundcolor": "#E5ECF6",
            "gridcolor": "white",
            "gridwidth": 2,
            "linecolor": "white",
            "showbackground": true,
            "ticks": "",
            "zerolinecolor": "white"
           },
           "yaxis": {
            "backgroundcolor": "#E5ECF6",
            "gridcolor": "white",
            "gridwidth": 2,
            "linecolor": "white",
            "showbackground": true,
            "ticks": "",
            "zerolinecolor": "white"
           },
           "zaxis": {
            "backgroundcolor": "#E5ECF6",
            "gridcolor": "white",
            "gridwidth": 2,
            "linecolor": "white",
            "showbackground": true,
            "ticks": "",
            "zerolinecolor": "white"
           }
          },
          "shapedefaults": {
           "line": {
            "color": "#2a3f5f"
           }
          },
          "ternary": {
           "aaxis": {
            "gridcolor": "white",
            "linecolor": "white",
            "ticks": ""
           },
           "baxis": {
            "gridcolor": "white",
            "linecolor": "white",
            "ticks": ""
           },
           "bgcolor": "#E5ECF6",
           "caxis": {
            "gridcolor": "white",
            "linecolor": "white",
            "ticks": ""
           }
          },
          "title": {
           "x": 0.05
          },
          "xaxis": {
           "automargin": true,
           "gridcolor": "white",
           "linecolor": "white",
           "ticks": "",
           "title": {
            "standoff": 15
           },
           "zerolinecolor": "white",
           "zerolinewidth": 2
          },
          "yaxis": {
           "automargin": true,
           "gridcolor": "white",
           "linecolor": "white",
           "ticks": "",
           "title": {
            "standoff": 15
           },
           "zerolinecolor": "white",
           "zerolinewidth": 2
          }
         }
        },
        "title": {
         "text": "Points from Cards: Ezra vs. Field",
         "x": 0.5
        },
        "xaxis": {
         "anchor": "y",
         "domain": [
          0,
          0.2125
         ]
        },
        "xaxis2": {
         "anchor": "y2",
         "domain": [
          0.2625,
          0.475
         ]
        },
        "xaxis3": {
         "anchor": "y3",
         "domain": [
          0.525,
          0.7375
         ]
        },
        "xaxis4": {
         "anchor": "y4",
         "domain": [
          0.7875,
          1
         ]
        },
        "yaxis": {
         "anchor": "x",
         "domain": [
          0,
          1
         ],
         "showticklabels": false
        },
        "yaxis2": {
         "anchor": "x2",
         "domain": [
          0,
          1
         ],
         "showticklabels": false
        },
        "yaxis3": {
         "anchor": "x3",
         "domain": [
          0,
          1
         ],
         "showticklabels": false
        },
        "yaxis4": {
         "anchor": "x4",
         "domain": [
          0,
          1
         ],
         "showticklabels": false
        }
       }
      },
      "text/html": [
       "<div>                            <div id=\"b766234b-2718-45c5-8ed5-c2505aacb247\" class=\"plotly-graph-div\" style=\"height:525px; width:100%;\"></div>            <script type=\"text/javascript\">                require([\"plotly\"], function(Plotly) {                    window.PLOTLYENV=window.PLOTLYENV || {};                                    if (document.getElementById(\"b766234b-2718-45c5-8ed5-c2505aacb247\")) {                    Plotly.newPlot(                        \"b766234b-2718-45c5-8ed5-c2505aacb247\",                        [{\"autobinx\":false,\"histnorm\":\"probability density\",\"legendgroup\":\"Ezra\",\"marker\":{\"color\":\"blue\"},\"name\":\"Ezra\",\"opacity\":0.7,\"x\":[9,12,22,16,23,30,21,6,23,23],\"xaxis\":\"x\",\"xbins\":{\"end\":30.0,\"size\":5,\"start\":6.0},\"yaxis\":\"y\",\"type\":\"histogram\"},{\"autobinx\":false,\"histnorm\":\"probability density\",\"legendgroup\":\"Field\",\"marker\":{\"color\":\"grey\"},\"name\":\"Field\",\"opacity\":0.7,\"x\":[46,48,41,33,52,45,22,57,42,15,10,56,29,50,18,24,46,20,18,26,44,52,35,38,12,12,120,67,120,67,34,26,50,49,14,35,36,12,9,5,16,27,36,27,31,59,15,34,53,38,22,26,19,52,12,6,14,23,14,20,21,27,20,22,16,51],\"xaxis\":\"x\",\"xbins\":{\"end\":120.0,\"size\":5,\"start\":5.0},\"yaxis\":\"y\",\"type\":\"histogram\"},{\"autobinx\":false,\"histnorm\":\"probability density\",\"legendgroup\":\"Ezra\",\"marker\":{\"color\":\"blue\"},\"name\":\"Ezra\",\"opacity\":0.7,\"showlegend\":false,\"x\":[19,15,12,9,10,19,13,17,19,14,6,28,21,9,20,20,8,10,15,15,21,7,2,24,10,19,11,31,23,21,9,24,13,8,7,6,17,17,16,10,24,39,15],\"xaxis\":\"x2\",\"xbins\":{\"end\":39.0,\"size\":5,\"start\":2.0},\"yaxis\":\"y2\",\"type\":\"histogram\"},{\"autobinx\":false,\"histnorm\":\"probability density\",\"legendgroup\":\"Field\",\"marker\":{\"color\":\"grey\"},\"name\":\"Field\",\"opacity\":0.7,\"showlegend\":false,\"x\":[23,44,42,26,31,6,17,18,30,51,39,15,15,28,13,30,4,12,11,25,51,33,41,34,24,36,25,10,11,7,46,6,17,48,19,61,18,48,56,33,33,31,20,33,7,45,17,32,21,42,21,47,17,32,36,11,53,28,27,17,16,31,56,40,47,7,44,22,52,27,9,63,20,14,14,28,40,89,35,43,34,47,21,18,15,13,22,12,24,15,18,28,30,44,8,15,48,21,16,29,26,20,8,38,35,22,34,6,54,41,9,-2,38,32,40,35,29,50,19,24,17,25,38,15,13,6,14,6,20,17,16,12,20,10,22,12,23,11,24,10,3,23,7,8,5,26,12,4,8,24,19,24,26,23,7,18,11,14,25,25,7,14,19,10,13,20,11,6,36,9,14,4,10,10,15,19,19,12,11,10,20,30,34,20,6,18,7,24,16,32,17],\"xaxis\":\"x2\",\"xbins\":{\"end\":89.0,\"size\":5,\"start\":-2.0},\"yaxis\":\"y2\",\"type\":\"histogram\"},{\"autobinx\":false,\"histnorm\":\"probability density\",\"legendgroup\":\"Ezra\",\"marker\":{\"color\":\"blue\"},\"name\":\"Ezra\",\"opacity\":0.7,\"showlegend\":false,\"x\":[9,12,15,32,8,23,16,21,21,4,6,22,9,38,9,15,9,11,24,6,9,12,24,14,26,4,16,9,4,11,15,8,9,10,1,8,22,13,15,13,7,7,7,14,18],\"xaxis\":\"x3\",\"xbins\":{\"end\":38.0,\"size\":5,\"start\":1.0},\"yaxis\":\"y3\",\"type\":\"histogram\"},{\"autobinx\":false,\"histnorm\":\"probability density\",\"legendgroup\":\"Field\",\"marker\":{\"color\":\"grey\"},\"name\":\"Field\",\"opacity\":0.7,\"showlegend\":false,\"x\":[22,19,6,7,10,19,7,17,24,27,26,26,22,13,5,31,6,16,14,2,16,16,17,37,27,13,25,14,6,6,7,6,44,16,67,23,33,28,48,7,9,21,1,2,9,7,18,24,2,6,19,4,12,10,62,6,10,62,6,22,24,13,6,37,13,12,17,18,30,15,1,20,50,10,3,7,34,6,2,13,12,8,11,11,32,6,30,13,14,29,16,9,5,7,26,26,14,22,30,16,7,30,18,16,12,7,11,44,44,5,14,10,-3,28,19,7,10,39,11,12,6,3,6,3,1,23,5,12,8,9,5,4,6,20,7,10,9,7,6,8,7,7,12,5,34,14,20,54,24,11,0,6,13,17,22,21,7,27,13,40,12,15,7,11,24,17,25,3,25,13,12,33,34,11,5],\"xaxis\":\"x3\",\"xbins\":{\"end\":67.0,\"size\":5,\"start\":-3.0},\"yaxis\":\"y3\",\"type\":\"histogram\"},{\"autobinx\":false,\"histnorm\":\"probability density\",\"legendgroup\":\"Ezra\",\"marker\":{\"color\":\"blue\"},\"name\":\"Ezra\",\"opacity\":0.7,\"showlegend\":false,\"x\":[7,9,11,8,3,16,11],\"xaxis\":\"x4\",\"xbins\":{\"end\":16.0,\"size\":5,\"start\":3.0},\"yaxis\":\"y4\",\"type\":\"histogram\"},{\"autobinx\":false,\"histnorm\":\"probability density\",\"legendgroup\":\"Field\",\"marker\":{\"color\":\"grey\"},\"name\":\"Field\",\"opacity\":0.7,\"showlegend\":false,\"x\":[25,0,15,14,21,18,27,17,4,7,10,5,1,18,26,4,2,14,3,10,5,9,5,10,3,1,17,19],\"xaxis\":\"x4\",\"xbins\":{\"end\":27.0,\"size\":5,\"start\":0.0},\"yaxis\":\"y4\",\"type\":\"histogram\"}],                        {\"template\":{\"data\":{\"bar\":[{\"error_x\":{\"color\":\"#2a3f5f\"},\"error_y\":{\"color\":\"#2a3f5f\"},\"marker\":{\"line\":{\"color\":\"#E5ECF6\",\"width\":0.5},\"pattern\":{\"fillmode\":\"overlay\",\"size\":10,\"solidity\":0.2}},\"type\":\"bar\"}],\"barpolar\":[{\"marker\":{\"line\":{\"color\":\"#E5ECF6\",\"width\":0.5},\"pattern\":{\"fillmode\":\"overlay\",\"size\":10,\"solidity\":0.2}},\"type\":\"barpolar\"}],\"carpet\":[{\"aaxis\":{\"endlinecolor\":\"#2a3f5f\",\"gridcolor\":\"white\",\"linecolor\":\"white\",\"minorgridcolor\":\"white\",\"startlinecolor\":\"#2a3f5f\"},\"baxis\":{\"endlinecolor\":\"#2a3f5f\",\"gridcolor\":\"white\",\"linecolor\":\"white\",\"minorgridcolor\":\"white\",\"startlinecolor\":\"#2a3f5f\"},\"type\":\"carpet\"}],\"choropleth\":[{\"colorbar\":{\"outlinewidth\":0,\"ticks\":\"\"},\"type\":\"choropleth\"}],\"contour\":[{\"colorbar\":{\"outlinewidth\":0,\"ticks\":\"\"},\"colorscale\":[[0.0,\"#0d0887\"],[0.1111111111111111,\"#46039f\"],[0.2222222222222222,\"#7201a8\"],[0.3333333333333333,\"#9c179e\"],[0.4444444444444444,\"#bd3786\"],[0.5555555555555556,\"#d8576b\"],[0.6666666666666666,\"#ed7953\"],[0.7777777777777778,\"#fb9f3a\"],[0.8888888888888888,\"#fdca26\"],[1.0,\"#f0f921\"]],\"type\":\"contour\"}],\"contourcarpet\":[{\"colorbar\":{\"outlinewidth\":0,\"ticks\":\"\"},\"type\":\"contourcarpet\"}],\"heatmap\":[{\"colorbar\":{\"outlinewidth\":0,\"ticks\":\"\"},\"colorscale\":[[0.0,\"#0d0887\"],[0.1111111111111111,\"#46039f\"],[0.2222222222222222,\"#7201a8\"],[0.3333333333333333,\"#9c179e\"],[0.4444444444444444,\"#bd3786\"],[0.5555555555555556,\"#d8576b\"],[0.6666666666666666,\"#ed7953\"],[0.7777777777777778,\"#fb9f3a\"],[0.8888888888888888,\"#fdca26\"],[1.0,\"#f0f921\"]],\"type\":\"heatmap\"}],\"heatmapgl\":[{\"colorbar\":{\"outlinewidth\":0,\"ticks\":\"\"},\"colorscale\":[[0.0,\"#0d0887\"],[0.1111111111111111,\"#46039f\"],[0.2222222222222222,\"#7201a8\"],[0.3333333333333333,\"#9c179e\"],[0.4444444444444444,\"#bd3786\"],[0.5555555555555556,\"#d8576b\"],[0.6666666666666666,\"#ed7953\"],[0.7777777777777778,\"#fb9f3a\"],[0.8888888888888888,\"#fdca26\"],[1.0,\"#f0f921\"]],\"type\":\"heatmapgl\"}],\"histogram\":[{\"marker\":{\"pattern\":{\"fillmode\":\"overlay\",\"size\":10,\"solidity\":0.2}},\"type\":\"histogram\"}],\"histogram2d\":[{\"colorbar\":{\"outlinewidth\":0,\"ticks\":\"\"},\"colorscale\":[[0.0,\"#0d0887\"],[0.1111111111111111,\"#46039f\"],[0.2222222222222222,\"#7201a8\"],[0.3333333333333333,\"#9c179e\"],[0.4444444444444444,\"#bd3786\"],[0.5555555555555556,\"#d8576b\"],[0.6666666666666666,\"#ed7953\"],[0.7777777777777778,\"#fb9f3a\"],[0.8888888888888888,\"#fdca26\"],[1.0,\"#f0f921\"]],\"type\":\"histogram2d\"}],\"histogram2dcontour\":[{\"colorbar\":{\"outlinewidth\":0,\"ticks\":\"\"},\"colorscale\":[[0.0,\"#0d0887\"],[0.1111111111111111,\"#46039f\"],[0.2222222222222222,\"#7201a8\"],[0.3333333333333333,\"#9c179e\"],[0.4444444444444444,\"#bd3786\"],[0.5555555555555556,\"#d8576b\"],[0.6666666666666666,\"#ed7953\"],[0.7777777777777778,\"#fb9f3a\"],[0.8888888888888888,\"#fdca26\"],[1.0,\"#f0f921\"]],\"type\":\"histogram2dcontour\"}],\"mesh3d\":[{\"colorbar\":{\"outlinewidth\":0,\"ticks\":\"\"},\"type\":\"mesh3d\"}],\"parcoords\":[{\"line\":{\"colorbar\":{\"outlinewidth\":0,\"ticks\":\"\"}},\"type\":\"parcoords\"}],\"pie\":[{\"automargin\":true,\"type\":\"pie\"}],\"scatter\":[{\"marker\":{\"colorbar\":{\"outlinewidth\":0,\"ticks\":\"\"}},\"type\":\"scatter\"}],\"scatter3d\":[{\"line\":{\"colorbar\":{\"outlinewidth\":0,\"ticks\":\"\"}},\"marker\":{\"colorbar\":{\"outlinewidth\":0,\"ticks\":\"\"}},\"type\":\"scatter3d\"}],\"scattercarpet\":[{\"marker\":{\"colorbar\":{\"outlinewidth\":0,\"ticks\":\"\"}},\"type\":\"scattercarpet\"}],\"scattergeo\":[{\"marker\":{\"colorbar\":{\"outlinewidth\":0,\"ticks\":\"\"}},\"type\":\"scattergeo\"}],\"scattergl\":[{\"marker\":{\"colorbar\":{\"outlinewidth\":0,\"ticks\":\"\"}},\"type\":\"scattergl\"}],\"scattermapbox\":[{\"marker\":{\"colorbar\":{\"outlinewidth\":0,\"ticks\":\"\"}},\"type\":\"scattermapbox\"}],\"scatterpolar\":[{\"marker\":{\"colorbar\":{\"outlinewidth\":0,\"ticks\":\"\"}},\"type\":\"scatterpolar\"}],\"scatterpolargl\":[{\"marker\":{\"colorbar\":{\"outlinewidth\":0,\"ticks\":\"\"}},\"type\":\"scatterpolargl\"}],\"scatterternary\":[{\"marker\":{\"colorbar\":{\"outlinewidth\":0,\"ticks\":\"\"}},\"type\":\"scatterternary\"}],\"surface\":[{\"colorbar\":{\"outlinewidth\":0,\"ticks\":\"\"},\"colorscale\":[[0.0,\"#0d0887\"],[0.1111111111111111,\"#46039f\"],[0.2222222222222222,\"#7201a8\"],[0.3333333333333333,\"#9c179e\"],[0.4444444444444444,\"#bd3786\"],[0.5555555555555556,\"#d8576b\"],[0.6666666666666666,\"#ed7953\"],[0.7777777777777778,\"#fb9f3a\"],[0.8888888888888888,\"#fdca26\"],[1.0,\"#f0f921\"]],\"type\":\"surface\"}],\"table\":[{\"cells\":{\"fill\":{\"color\":\"#EBF0F8\"},\"line\":{\"color\":\"white\"}},\"header\":{\"fill\":{\"color\":\"#C8D4E3\"},\"line\":{\"color\":\"white\"}},\"type\":\"table\"}]},\"layout\":{\"annotationdefaults\":{\"arrowcolor\":\"#2a3f5f\",\"arrowhead\":0,\"arrowwidth\":1},\"autotypenumbers\":\"strict\",\"coloraxis\":{\"colorbar\":{\"outlinewidth\":0,\"ticks\":\"\"}},\"colorscale\":{\"diverging\":[[0,\"#8e0152\"],[0.1,\"#c51b7d\"],[0.2,\"#de77ae\"],[0.3,\"#f1b6da\"],[0.4,\"#fde0ef\"],[0.5,\"#f7f7f7\"],[0.6,\"#e6f5d0\"],[0.7,\"#b8e186\"],[0.8,\"#7fbc41\"],[0.9,\"#4d9221\"],[1,\"#276419\"]],\"sequential\":[[0.0,\"#0d0887\"],[0.1111111111111111,\"#46039f\"],[0.2222222222222222,\"#7201a8\"],[0.3333333333333333,\"#9c179e\"],[0.4444444444444444,\"#bd3786\"],[0.5555555555555556,\"#d8576b\"],[0.6666666666666666,\"#ed7953\"],[0.7777777777777778,\"#fb9f3a\"],[0.8888888888888888,\"#fdca26\"],[1.0,\"#f0f921\"]],\"sequentialminus\":[[0.0,\"#0d0887\"],[0.1111111111111111,\"#46039f\"],[0.2222222222222222,\"#7201a8\"],[0.3333333333333333,\"#9c179e\"],[0.4444444444444444,\"#bd3786\"],[0.5555555555555556,\"#d8576b\"],[0.6666666666666666,\"#ed7953\"],[0.7777777777777778,\"#fb9f3a\"],[0.8888888888888888,\"#fdca26\"],[1.0,\"#f0f921\"]]},\"colorway\":[\"#636efa\",\"#EF553B\",\"#00cc96\",\"#ab63fa\",\"#FFA15A\",\"#19d3f3\",\"#FF6692\",\"#B6E880\",\"#FF97FF\",\"#FECB52\"],\"font\":{\"color\":\"#2a3f5f\"},\"geo\":{\"bgcolor\":\"white\",\"lakecolor\":\"white\",\"landcolor\":\"#E5ECF6\",\"showlakes\":true,\"showland\":true,\"subunitcolor\":\"white\"},\"hoverlabel\":{\"align\":\"left\"},\"hovermode\":\"closest\",\"mapbox\":{\"style\":\"light\"},\"paper_bgcolor\":\"white\",\"plot_bgcolor\":\"#E5ECF6\",\"polar\":{\"angularaxis\":{\"gridcolor\":\"white\",\"linecolor\":\"white\",\"ticks\":\"\"},\"bgcolor\":\"#E5ECF6\",\"radialaxis\":{\"gridcolor\":\"white\",\"linecolor\":\"white\",\"ticks\":\"\"}},\"scene\":{\"xaxis\":{\"backgroundcolor\":\"#E5ECF6\",\"gridcolor\":\"white\",\"gridwidth\":2,\"linecolor\":\"white\",\"showbackground\":true,\"ticks\":\"\",\"zerolinecolor\":\"white\"},\"yaxis\":{\"backgroundcolor\":\"#E5ECF6\",\"gridcolor\":\"white\",\"gridwidth\":2,\"linecolor\":\"white\",\"showbackground\":true,\"ticks\":\"\",\"zerolinecolor\":\"white\"},\"zaxis\":{\"backgroundcolor\":\"#E5ECF6\",\"gridcolor\":\"white\",\"gridwidth\":2,\"linecolor\":\"white\",\"showbackground\":true,\"ticks\":\"\",\"zerolinecolor\":\"white\"}},\"shapedefaults\":{\"line\":{\"color\":\"#2a3f5f\"}},\"ternary\":{\"aaxis\":{\"gridcolor\":\"white\",\"linecolor\":\"white\",\"ticks\":\"\"},\"baxis\":{\"gridcolor\":\"white\",\"linecolor\":\"white\",\"ticks\":\"\"},\"bgcolor\":\"#E5ECF6\",\"caxis\":{\"gridcolor\":\"white\",\"linecolor\":\"white\",\"ticks\":\"\"}},\"title\":{\"x\":0.05},\"xaxis\":{\"automargin\":true,\"gridcolor\":\"white\",\"linecolor\":\"white\",\"ticks\":\"\",\"title\":{\"standoff\":15},\"zerolinecolor\":\"white\",\"zerolinewidth\":2},\"yaxis\":{\"automargin\":true,\"gridcolor\":\"white\",\"linecolor\":\"white\",\"ticks\":\"\",\"title\":{\"standoff\":15},\"zerolinecolor\":\"white\",\"zerolinewidth\":2}}},\"xaxis\":{\"anchor\":\"y\",\"domain\":[0.0,0.2125]},\"yaxis\":{\"anchor\":\"x\",\"domain\":[0.0,1.0],\"showticklabels\":false},\"xaxis2\":{\"anchor\":\"y2\",\"domain\":[0.2625,0.475]},\"yaxis2\":{\"anchor\":\"x2\",\"domain\":[0.0,1.0],\"showticklabels\":false},\"xaxis3\":{\"anchor\":\"y3\",\"domain\":[0.525,0.7375]},\"yaxis3\":{\"anchor\":\"x3\",\"domain\":[0.0,1.0],\"showticklabels\":false},\"xaxis4\":{\"anchor\":\"y4\",\"domain\":[0.7875,1.0]},\"yaxis4\":{\"anchor\":\"x4\",\"domain\":[0.0,1.0],\"showticklabels\":false},\"annotations\":[{\"font\":{\"size\":16},\"showarrow\":false,\"text\":\"2-player\",\"x\":0.10625,\"xanchor\":\"center\",\"xref\":\"paper\",\"y\":1.0,\"yanchor\":\"bottom\",\"yref\":\"paper\"},{\"font\":{\"size\":16},\"showarrow\":false,\"text\":\"3-player\",\"x\":0.36875,\"xanchor\":\"center\",\"xref\":\"paper\",\"y\":1.0,\"yanchor\":\"bottom\",\"yref\":\"paper\"},{\"font\":{\"size\":16},\"showarrow\":false,\"text\":\"4-player\",\"x\":0.6312500000000001,\"xanchor\":\"center\",\"xref\":\"paper\",\"y\":1.0,\"yanchor\":\"bottom\",\"yref\":\"paper\"},{\"font\":{\"size\":16},\"showarrow\":false,\"text\":\"5-player\",\"x\":0.89375,\"xanchor\":\"center\",\"xref\":\"paper\",\"y\":1.0,\"yanchor\":\"bottom\",\"yref\":\"paper\"}],\"title\":{\"text\":\"Points from Cards: Ezra vs. Field\",\"x\":0.5},\"plot_bgcolor\":\"rgba(0,0,0,0)\"},                        {\"responsive\": true}                    ).then(function(){\n",
       "                            \n",
       "var gd = document.getElementById('b766234b-2718-45c5-8ed5-c2505aacb247');\n",
       "var x = new MutationObserver(function (mutations, observer) {{\n",
       "        var display = window.getComputedStyle(gd).display;\n",
       "        if (!display || display === 'none') {{\n",
       "            console.log([gd, 'removed!']);\n",
       "            Plotly.purge(gd);\n",
       "            observer.disconnect();\n",
       "        }}\n",
       "}});\n",
       "\n",
       "// Listen for the removal of the full notebook cells\n",
       "var notebookContainer = gd.closest('#notebook-container');\n",
       "if (notebookContainer) {{\n",
       "    x.observe(notebookContainer, {childList: true});\n",
       "}}\n",
       "\n",
       "// Listen for the clearing of the current output cell\n",
       "var outputEl = gd.closest('.output');\n",
       "if (outputEl) {{\n",
       "    x.observe(outputEl, {childList: true});\n",
       "}}\n",
       "\n",
       "                        })                };                });            </script>        </div>"
      ]
     },
     "metadata": {},
     "output_type": "display_data"
    }
   ],
   "source": [
    "fig = make_subplots(rows=1, cols=4, subplot_titles=[f'{i}-player' for i in sorted(df.num_players.unique())])\n",
    "\n",
    "for i, n_players in enumerate(sorted(df.num_players.unique())):\n",
    "    player_df_num_players= player_df[player_df.num_players==n_players]\n",
    "    other_player_df_num_players = df[(df.player!= player) & (df.num_players==n_players)]\n",
    "    \n",
    "    hist_data = [player_df_num_players.card_points, other_player_df_num_players.card_points]\n",
    "\n",
    "    group_labels = [player, 'Field']\n",
    "    colors = ['blue', 'grey']\n",
    "\n",
    "    data_ = ff.create_distplot(hist_data, group_labels, colors=colors, bin_size=5)\n",
    "    \n",
    "    if i > 0:\n",
    "        fig.add_trace(go.Histogram(data_['data'][0], marker_color='blue', showlegend=False), row=1, col=i+1)\n",
    "        fig.add_trace(go.Histogram(data_['data'][1], marker_color='grey', showlegend=False), row=1, col=i+1) \n",
    "    else:\n",
    "        fig.add_trace(go.Histogram(data_['data'][0], marker_color='blue'), row=1, col=i+1)\n",
    "        fig.add_trace(go.Histogram(data_['data'][1], marker_color='grey'), row=1, col=i+1)\n",
    "\n",
    "#     fig.add_trace(go.Scatter(data_['data'][2], line=dict(color='blue', width=0.5)),\n",
    "#                   row=1, col=i+1)\n",
    "#     fig.add_trace(go.Scatter(data_['data'][3], line=dict(color='grey', width=0.5)),\n",
    "#                   row=1, col=i+1)\n",
    "    \n",
    "    \n",
    "fig.update_layout(title_text=f'Points from Cards: {player} vs. Field', title_x=0.5, plot_bgcolor='rgba(0,0,0,0)')\n",
    "fig.update_yaxes(showticklabels=False)"
   ]
  },
  {
   "cell_type": "markdown",
   "metadata": {},
   "source": [
    "# Highlighted Trends"
   ]
  },
  {
   "cell_type": "code",
   "execution_count": null,
   "metadata": {},
   "outputs": [],
   "source": []
  },
  {
   "cell_type": "markdown",
   "metadata": {},
   "source": [
    "# Player ELO"
   ]
  },
  {
   "cell_type": "code",
   "execution_count": null,
   "metadata": {},
   "outputs": [],
   "source": [
    "# https://towardsdatascience.com/developing-a-generalized-elo-rating-system-for-multiplayer-games-b9b495e87802\n",
    "\n",
    "# scoring functions\n",
    "def linear_score(p, n):\n",
    "    '''\n",
    "    Args:\n",
    "        p : int \n",
    "            Finishing place\n",
    "        n : int \n",
    "            # of players\n",
    "    '''\n",
    "    return (n-p)/ (n*(n-1)/2)\n",
    "\n",
    "def exp_score(p, n, alpha=2.):\n",
    "    '''\n",
    "    Args:\n",
    "        p : int \n",
    "            Finishing place\n",
    "        n : int \n",
    "            # of players\n",
    "        alpha : exists in (1,inf)'''\n",
    "    return (alpha**(n-p) - 1) / np.sum([(alpha**(n-i) - 1) for i in range(1,n)])\n",
    "\n",
    "# expected score\n",
    "def expected_score(s, player, n, d=400):\n",
    "    '''\n",
    "    Args:\n",
    "        s : dict\n",
    "            Players scores, ex.: {'Tony': 90, 'Pat': 80, ...}\n",
    "        player : str\n",
    "            Player of interest\n",
    "        n : int \n",
    "            # of players\n",
    "    '''\n",
    "    return np.sum([(1/(1+10**((s[i] - s[player])/d))) if i != player else 0 for i in s.keys()])/(n*(n-1)/2)\n",
    "\n",
    "def update_rating(current_rating, expected_score, actual_score, n, k=32):\n",
    "    '''\n",
    "    Args:\n",
    "        current_rating : int\n",
    "        expected_score : float\n",
    "        actual_score : float\n",
    "        n : int\n",
    "            # of players\n",
    "        k : int\n",
    "    '''\n",
    "    return current_rating + k*(n-1)*(actual_score-expected_score)"
   ]
  },
  {
   "cell_type": "code",
   "execution_count": null,
   "metadata": {},
   "outputs": [],
   "source": [
    "player_ratings = {player: {1: {'date':(min(pd.to_datetime(df.date)) - pd.Timedelta(days=1)),\n",
    "                               'rating':1000}} for player in df.player.unique()}\n",
    "current_ratings = {player: 1000 for player in df.player.unique()}\n",
    "i = 2\n",
    "\n",
    "for game_id in unique_sorted_game_ids:\n",
    "    game_df = df[df['game_id'] == game_id]\n",
    "    \n",
    "    new_ratings = {}\n",
    "    current_ratings_active_players = {player: rating for player, rating in current_ratings.items() if player in game_df.player.unique()}\n",
    "\n",
    "    for player, place, date in zip(game_df.player, game_df.place, game_df.date):\n",
    "        expected = expected_score(s=current_ratings_active_players, player=player, n=game_df.shape[0])\n",
    "        observed = exp_score(p=place, n=game_df.shape[0])\n",
    "        updated =  update_rating(current_rating=current_ratings_active_players[player], \n",
    "                                 expected_score=expected, \n",
    "                                 actual_score=observed, \n",
    "                                 n=game_df.shape[0])\n",
    "        new_ratings[player] = {'previous': current_ratings_active_players[player],\n",
    "                               'expected': expected,\n",
    "                               'observed': observed,\n",
    "                               'updated_rating': updated}\n",
    "\n",
    "    for player in current_ratings.keys():\n",
    "            if player in new_ratings.keys(): # player played in current game\n",
    "                current_ratings[player] = new_ratings[player]['updated_rating']\n",
    "                player_ratings[player][i] = {'date': pd.to_datetime(date), 'rating': new_ratings[player]['updated_rating']}\n",
    "            else: # player did not play in current game\n",
    "                player_ratings[player][i] = {'date': pd.to_datetime(date), 'rating': current_ratings[player]}\n",
    "    \n",
    "    i += 1\n",
    "    \n",
    "player_rating_dfs_list = [pd.DataFrame(player_ratings[player]).T.reset_index().assign(player=player)\\\n",
    "                          for player in player_ratings.keys()]\n",
    "player_ratings_df = pd.concat(player_rating_dfs_list)\n",
    "player_ratings_df.columns = ['game_number','date','rating','player']\n"
   ]
  },
  {
   "cell_type": "code",
   "execution_count": null,
   "metadata": {},
   "outputs": [],
   "source": [
    "fig, ax = plt.subplots(1,1, figsize=(20,10))\n",
    "\n",
    "for player in ['Ben','Ezra','Matt','Pat','Tony']:#player_ratings_df.player.unique():\n",
    "    player_rating_df = player_ratings_df[player_ratings_df['player']==player]\n",
    "    ax.plot(player_rating_df.date, player_rating_df.rating, label=player)\n",
    "ax.legend()\n",
    "ax.set_title('Player Ratings');"
   ]
  },
  {
   "cell_type": "markdown",
   "metadata": {},
   "source": [
    "# Corporation ELO"
   ]
  },
  {
   "cell_type": "code",
   "execution_count": null,
   "metadata": {},
   "outputs": [],
   "source": [
    "corp_ratings = {corp: {1: {'date':(min(pd.to_datetime(df.date)) - pd.Timedelta(days=1)),\n",
    "                             'rating':1000}} for corp in df.corporation.unique()}\n",
    "current_ratings = {corp: 1000 for corp in df.corporation.unique()}\n",
    "i = 2\n",
    "\n",
    "for game_id in unique_sorted_game_ids:\n",
    "    game_df = df[df['game_id'] == game_id]\n",
    "    game_df['place'] = game_df['total_points'].rank(ascending=False)\n",
    "    \n",
    "    new_ratings = {}\n",
    "    current_ratings_active_corps = {corp: rating for corp, rating in current_ratings.items() if corp in game_df.corporation.unique()}\n",
    "\n",
    "    for corp, place, date in zip(game_df.corporation, game_df.place, game_df.date):\n",
    "        expected = expected_score(s=current_ratings_active_corps, player=corp, n=game_df.shape[0])\n",
    "        observed = linear_score(p=place, n=game_df.shape[0])\n",
    "        updated =  update_rating(current_rating=current_ratings_active_corps[corp], \n",
    "                                 expected_score=expected, \n",
    "                                 actual_score=observed, \n",
    "                                 n=game_df.shape[0])\n",
    "        new_ratings[corp] = {'previous': current_ratings_active_corps[corp],\n",
    "                               'expected': expected,\n",
    "                               'observed': observed,\n",
    "                               'updated_rating': updated}\n",
    "\n",
    "    for corp in current_ratings.keys():\n",
    "            if corp in new_ratings.keys(): # corp played in current game\n",
    "                current_ratings[corp] = new_ratings[corp]['updated_rating']\n",
    "                corp_ratings[corp][i] = {'date': pd.to_datetime(date), 'rating': new_ratings[corp]['updated_rating']}\n",
    "            else: # corp did not play in current game\n",
    "                corp_ratings[corp][i] = {'date': pd.to_datetime(date), 'rating': current_ratings[corp]}\n",
    "    \n",
    "    i += 1\n",
    "    \n",
    "corp_rating_dfs_list = [pd.DataFrame(corp_ratings[corp]).T.reset_index().assign(corporation=corp)\\\n",
    "                          for corp in corp_ratings.keys()]\n",
    "corp_ratings_df = pd.concat(corp_rating_dfs_list)\n",
    "corp_ratings_df.columns = ['game_number','date','rating','corporation']\n"
   ]
  },
  {
   "cell_type": "code",
   "execution_count": null,
   "metadata": {},
   "outputs": [],
   "source": [
    "fig, ax = plt.subplots(1,1, figsize=(20,15))\n",
    "\n",
    "for corp in set(df[df.corporation_origin=='Base'].corporation.unique()) - set(['Beginner']):\n",
    "    corp_rating_df = corp_ratings_df[corp_ratings_df['corporation']==corp][1:100]\n",
    "    ax.plot(corp_rating_df.date, corp_rating_df.rating, label=corp)\n",
    "ax.legend()\n",
    "ax.set_title('Corporation Ratings');"
   ]
  },
  {
   "cell_type": "code",
   "execution_count": null,
   "metadata": {},
   "outputs": [],
   "source": []
  }
 ],
 "metadata": {
  "kernelspec": {
   "display_name": "Python 3",
   "language": "python",
   "name": "python3"
  },
  "language_info": {
   "codemirror_mode": {
    "name": "ipython",
    "version": 3
   },
   "file_extension": ".py",
   "mimetype": "text/x-python",
   "name": "python",
   "nbconvert_exporter": "python",
   "pygments_lexer": "ipython3",
   "version": "3.6.8"
  }
 },
 "nbformat": 4,
 "nbformat_minor": 2
}

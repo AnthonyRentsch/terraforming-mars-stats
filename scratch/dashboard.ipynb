{
 "cells": [
  {
   "cell_type": "code",
   "execution_count": 13,
   "metadata": {},
   "outputs": [],
   "source": [
    "import pandas as pd\n",
    "import numpy as np\n",
    "import matplotlib.pyplot as plt\n",
    "import seaborn as sns\n",
    "\n",
    "import plotly.figure_factory as ff\n",
    "from plotly.subplots import make_subplots\n",
    "import plotly.graph_objs as go\n",
    "import plotly.express as px\n",
    "\n",
    "pd.options.mode.chained_assignment = None"
   ]
  },
  {
   "cell_type": "code",
   "execution_count": 2,
   "metadata": {},
   "outputs": [],
   "source": [
    "df = pd.read_csv('../terraforming-mars-stats.csv')\n",
    "unique_sorted_game_ids = pd.Series([x for _,x in sorted(zip(df.date, df.game_id), reverse=True)]).unique() # for time-based stuff"
   ]
  },
  {
   "cell_type": "markdown",
   "metadata": {},
   "source": [
    "# Summary"
   ]
  },
  {
   "cell_type": "code",
   "execution_count": null,
   "metadata": {},
   "outputs": [],
   "source": [
    "df.groupby('player').\\\n",
    "agg(wins = ('is_winner','sum'), games = ('is_winner', 'count'), win_rate = ('is_winner','mean')).\\\n",
    "sort_values(by='win_rate', ascending=False)"
   ]
  },
  {
   "cell_type": "markdown",
   "metadata": {},
   "source": [
    "# Individual Player Summary"
   ]
  },
  {
   "cell_type": "code",
   "execution_count": null,
   "metadata": {},
   "outputs": [],
   "source": [
    "player = 'Ezra'\n",
    "player_df = df[df.player == player]"
   ]
  },
  {
   "cell_type": "code",
   "execution_count": null,
   "metadata": {},
   "outputs": [],
   "source": [
    "# player history\n",
    "player_df.groupby('player').\\\n",
    "agg(wins = ('is_winner','sum'), games = ('is_winner', 'count'), win_rate = ('is_winner','mean'))"
   ]
  },
  {
   "cell_type": "code",
   "execution_count": null,
   "metadata": {},
   "outputs": [],
   "source": [
    "# most recent win\n",
    "player_most_recent_win_game_id = player_df[player_df['is_winner']==1].sort_values(by='date', ascending=False).head(1)['game_id'].values[0]\n",
    "player_most_recent_win_df = df[df.game_id == player_most_recent_win_game_id]"
   ]
  },
  {
   "cell_type": "code",
   "execution_count": null,
   "metadata": {},
   "outputs": [],
   "source": [
    "fig = make_subplots(rows=1, cols=4, subplot_titles=[f'{i}-player' for i in sorted(df.num_players.unique())])\n",
    "\n",
    "for i, n_players in enumerate(sorted(df.num_players.unique())):\n",
    "    player_df_num_players= player_df[player_df.num_players==n_players]\n",
    "    other_player_df_num_players = df[(df.player!= player) & (df.num_players==n_players)]\n",
    "    \n",
    "    hist_data = [player_df_num_players.card_points, other_player_df_num_players.card_points]\n",
    "\n",
    "    group_labels = [player, 'Field']\n",
    "    colors = ['blue', 'grey']\n",
    "\n",
    "    data_ = ff.create_distplot(hist_data, group_labels, colors=colors, bin_size=5)\n",
    "    \n",
    "    if i > 0:\n",
    "        fig.add_trace(go.Histogram(data_['data'][0], marker_color='blue', showlegend=False), row=1, col=i+1)\n",
    "        fig.add_trace(go.Histogram(data_['data'][1], marker_color='grey', showlegend=False), row=1, col=i+1) \n",
    "    else:\n",
    "        fig.add_trace(go.Histogram(data_['data'][0], marker_color='blue'), row=1, col=i+1)\n",
    "        fig.add_trace(go.Histogram(data_['data'][1], marker_color='grey'), row=1, col=i+1)\n",
    "\n",
    "#     fig.add_trace(go.Scatter(data_['data'][2], line=dict(color='blue', width=0.5)),\n",
    "#                   row=1, col=i+1)\n",
    "#     fig.add_trace(go.Scatter(data_['data'][3], line=dict(color='grey', width=0.5)),\n",
    "#                   row=1, col=i+1)\n",
    "    \n",
    "    \n",
    "fig.update_layout(title_text=f'Points from Cards: {player} vs. Field', title_x=0.5, plot_bgcolor='rgba(0,0,0,0)')\n",
    "fig.update_yaxes(showticklabels=False)"
   ]
  },
  {
   "cell_type": "markdown",
   "metadata": {},
   "source": [
    "# Highlighted Trends"
   ]
  },
  {
   "cell_type": "code",
   "execution_count": 18,
   "metadata": {},
   "outputs": [
    {
     "data": {
      "application/vnd.plotly.v1+json": {
       "config": {
        "plotlyServerURL": "https://plot.ly"
       },
       "data": [
        {
         "hovertemplate": "facet_col=3<br>x=%{x}<br>y=%{y}<extra></extra>",
         "legendgroup": "",
         "line": {
          "color": "#636efa",
          "dash": "solid"
         },
         "marker": {
          "symbol": "circle"
         },
         "mode": "lines",
         "name": "",
         "orientation": "v",
         "showlegend": false,
         "type": "scatter",
         "x": [
          "2021-12-18",
          "2021-12-06",
          "2021-12-02",
          "2021-11-16",
          "2021-11-12",
          "2021-10-17",
          "2021-09-30",
          "2021-09-22",
          "2021-07-29",
          "2021-07-22",
          "2021-05-25",
          "2021-05-21",
          "2021-04-23",
          "2021-04-09",
          "2021-03-13",
          "2021-02-22",
          "2021-02-15",
          "2021-01-31",
          "2021-01-21",
          "2021-01-18",
          "2021-01-14",
          "2020-12-17",
          "2020-12-07",
          "2020-11-20",
          "2020-09-17",
          "2020-09-14",
          "2020-09-12",
          "2020-09-04",
          "2020-09-02",
          "2020-08-27",
          "2020-08-23",
          "2020-08-11",
          "2020-08-07",
          "2020-08-07",
          "2020-08-06",
          "2020-08-02",
          "2020-07-26",
          "2020-07-26",
          "2020-07-23",
          "2020-07-22",
          "2020-07-20",
          "2020-07-17",
          "2020-07-15",
          "2020-07-10",
          "2020-07-09",
          "2020-07-09",
          "2020-07-04",
          "2020-06-26",
          "2020-06-25",
          "2020-06-17",
          "2020-06-14",
          "2020-06-14",
          "2020-06-13",
          "2020-06-07",
          "2020-06-02",
          "2020-05-30",
          "2020-05-25",
          "2020-05-19",
          "2020-05-17",
          "2020-05-16",
          "2020-05-15",
          "2020-05-14",
          "2020-05-05",
          "2020-05-05",
          "2020-02-16",
          "2020-03-03",
          "2020-03-07",
          "2020-03-14",
          "2020-03-23",
          "2020-03-29",
          "2020-04-04",
          "2020-04-04",
          "2020-04-09",
          "2020-04-14",
          "2020-04-17",
          "2020-04-19",
          "2020-04-24",
          "2020-04-25",
          "2020-04-25",
          "2020-04-25",
          "2020-04-28",
          "2020-04-30"
         ],
         "xaxis": "x",
         "y": [
          0.375,
          0.4117647058823529,
          0.31,
          0.3488372093023256,
          0.3923076923076923,
          0.1595744680851064,
          0.13333333333333333,
          0.53125,
          0.32673267326732675,
          0.24509803921568626,
          0.136986301369863,
          0.06976744186046512,
          0.5304347826086957,
          0.41739130434782606,
          0.2796610169491525,
          0.28205128205128205,
          0.1744186046511628,
          0.3076923076923077,
          0.39622641509433965,
          0.3950617283950617,
          0.4732142857142857,
          0.2647058823529412,
          0.16842105263157894,
          0.45528455284552843,
          0.39166666666666666,
          0.43333333333333335,
          0.47368421052631576,
          0.19444444444444445,
          0.16279069767441862,
          0.6544117647058824,
          0.415929203539823,
          0.18518518518518517,
          0.2857142857142857,
          0.20454545454545456,
          0.2830188679245283,
          0.4230769230769231,
          0.21649484536082475,
          0.17204301075268819,
          0.26666666666666666,
          0.35,
          0.3541666666666667,
          0.43548387096774194,
          0.12,
          0.32,
          0.3804347826086957,
          0.5208333333333334,
          0.24,
          0.26595744680851063,
          0.1511627906976744,
          0.15,
          0.08108108108108109,
          0.28378378378378377,
          0.18478260869565216,
          0.024691358024691357,
          0.23404255319148937,
          0.24,
          0.11235955056179775,
          0.27058823529411763,
          0.1111111111111111,
          0.27956989247311825,
          0.2980769230769231,
          0.25,
          0.21,
          0.08045977011494253,
          0.25263157894736843,
          0.1511627906976744,
          0.3125,
          0.21839080459770116,
          0.14285714285714285,
          0.08108108108108109,
          0.10344827586206896,
          0.16091954022988506,
          0.11235955056179775,
          0.2,
          0.19791666666666666,
          0.20512820512820512,
          0.1111111111111111,
          0.4,
          0.23529411764705882,
          0.24242424242424243,
          0.39,
          0.16831683168316833
         ],
         "yaxis": "y"
        },
        {
         "hovertemplate": "facet_col=2<br>x=%{x}<br>y=%{y}<extra></extra>",
         "legendgroup": "",
         "line": {
          "color": "#636efa",
          "dash": "solid"
         },
         "marker": {
          "symbol": "circle"
         },
         "mode": "lines",
         "name": "",
         "orientation": "v",
         "showlegend": false,
         "type": "scatter",
         "x": [
          "2021-12-11",
          "2021-11-11",
          "2021-11-10",
          "2021-09-13",
          "2021-08-27",
          "2021-05-31",
          "2020-09-17",
          "2020-09-03",
          "2020-08-29",
          "2020-08-29",
          "2020-08-11",
          "2020-08-04",
          "2020-07-31",
          "2020-07-30",
          "2020-07-29",
          "2020-07-27",
          "2020-07-24",
          "2020-07-20",
          "2020-07-16",
          "2020-07-14",
          "2020-07-10",
          "2020-07-08",
          "2020-07-07",
          "2020-07-05",
          "2020-07-05",
          "2020-07-03",
          "2020-06-29",
          "2020-06-28",
          "2020-06-19",
          "2020-06-15",
          "2020-06-08",
          "2020-06-07",
          "2020-06-05",
          "2020-05-24",
          "2020-05-23",
          "2020-05-12",
          "2020-03-07",
          "2020-04-08",
          "2020-04-25"
         ],
         "xaxis": "x2",
         "y": [
          0.32,
          0.2971014492753623,
          0.34210526315789475,
          0.4351145038167939,
          0.3620689655172414,
          0.3684210526315789,
          0.37593984962406013,
          0.1875,
          0.3458646616541353,
          0.2,
          0.36666666666666664,
          0.09375,
          0.2692307692307692,
          0.11764705882352941,
          0.3401015228426396,
          0.3401015228426396,
          0.171875,
          0.36496350364963503,
          0.3798449612403101,
          0.2713178294573643,
          0.13186813186813187,
          0.16842105263157894,
          0.26865671641791045,
          0.16326530612244897,
          0.2755102040816326,
          0.4645669291338583,
          0.18110236220472442,
          0.3706293706293706,
          0.304,
          0.2803738317757009,
          0.3023255813953488,
          0.14457831325301204,
          0.20588235294117646,
          0.19827586206896552,
          0.17543859649122806,
          0.1885245901639344,
          0.18110236220472442,
          0.18518518518518517,
          0.3893129770992366
         ],
         "yaxis": "y2"
        },
        {
         "hovertemplate": "facet_col=4<br>x=%{x}<br>y=%{y}<extra></extra>",
         "legendgroup": "",
         "line": {
          "color": "#636efa",
          "dash": "solid"
         },
         "marker": {
          "symbol": "circle"
         },
         "mode": "lines",
         "name": "",
         "orientation": "v",
         "showlegend": false,
         "type": "scatter",
         "x": [
          "2021-06-04",
          "2021-05-25",
          "2021-04-16",
          "2021-03-24",
          "2021-02-20",
          "2020-11-17",
          "2020-10-29",
          "2020-09-10",
          "2020-08-15",
          "2020-08-07",
          "2020-07-25",
          "2020-07-19",
          "2020-07-13",
          "2020-07-12",
          "2020-07-06",
          "2020-07-08",
          "2020-07-03",
          "2020-06-22",
          "2020-06-20",
          "2020-06-19",
          "2020-06-18",
          "2020-06-17",
          "2020-06-12",
          "2020-06-12",
          "2020-06-12",
          "2020-06-09",
          "2020-06-04",
          "2020-05-31",
          "2020-05-29",
          "2020-05-22",
          "2020-05-20",
          "2020-05-10",
          "2020-05-10",
          "2020-05-09",
          "2020-05-07",
          "2020-05-03",
          "2020-05-03",
          "2020-05-01",
          "2020-03-16",
          "2020-03-18",
          "2020-03-19",
          "2020-03-20",
          "2020-03-21",
          "2020-03-27",
          "2020-03-27",
          "2020-03-28",
          "2020-03-28",
          "2020-04-03",
          "2020-04-05",
          "2020-04-08",
          "2020-04-10",
          "2020-04-11",
          "2020-04-12",
          "2020-04-18",
          "2020-04-23",
          "2020-04-26",
          "2020-04-29"
         ],
         "xaxis": "x3",
         "y": [
          0.07865168539325842,
          0.09090909090909091,
          0.38028169014084506,
          0.25287356321839083,
          0.45588235294117646,
          0.24615384615384617,
          0.4111111111111111,
          0.41025641025641024,
          0.109375,
          0.5775862068965517,
          0.43636363636363634,
          0.017543859649122806,
          0.3484848484848485,
          0.35294117647058826,
          0.17391304347826086,
          0.5535714285714286,
          0.5535714285714286,
          0.05333333333333334,
          0.43023255813953487,
          0.2236842105263158,
          0.125,
          0.10869565217391304,
          0.4358974358974359,
          0.03125,
          0.203125,
          0.18181818181818182,
          0.4383561643835616,
          0.3333333333333333,
          0.075,
          0.07246376811594203,
          0.175,
          0.35294117647058826,
          0.16494845360824742,
          0.09722222222222222,
          0.46808510638297873,
          -0.047619047619047616,
          0.2345679012345679,
          0.4875,
          0.16666666666666666,
          0.014492753623188406,
          0.11267605633802817,
          0.10666666666666667,
          0.08450704225352113,
          0.1724137931034483,
          0.15517241379310345,
          0.1076923076923077,
          0.11428571428571428,
          0.4146341463414634,
          0.5192307692307693,
          0.18518518518518517,
          0.24444444444444444,
          0.4444444444444444,
          0.19672131147540983,
          0.34782608695652173,
          0.31645569620253167,
          0.4074074074074074,
          0.2
         ],
         "yaxis": "y3"
        },
        {
         "hovertemplate": "facet_col=5<br>x=%{x}<br>y=%{y}<extra></extra>",
         "legendgroup": "",
         "line": {
          "color": "#636efa",
          "dash": "solid"
         },
         "marker": {
          "symbol": "circle"
         },
         "mode": "lines",
         "name": "",
         "orientation": "v",
         "showlegend": false,
         "type": "scatter",
         "x": [
          "2020-06-13",
          "2020-05-08",
          "2020-05-08",
          "2020-03-22",
          "2020-03-30",
          "2020-04-15",
          "2020-04-19",
          "2020-04-22"
         ],
         "xaxis": "x4",
         "y": [
          0.208955223880597,
          0.31343283582089554,
          0.40298507462686567,
          0.1774193548387097,
          0.12307692307692308,
          0.05263157894736842,
          0.08620689655172414,
          0.04225352112676056
         ],
         "yaxis": "y4"
        }
       ],
       "layout": {
        "annotations": [
         {
          "font": {},
          "showarrow": false,
          "text": "facet_col=3",
          "x": 0.1175,
          "xanchor": "center",
          "xref": "paper",
          "y": 1,
          "yanchor": "bottom",
          "yref": "paper"
         },
         {
          "font": {},
          "showarrow": false,
          "text": "facet_col=2",
          "x": 0.3725,
          "xanchor": "center",
          "xref": "paper",
          "y": 1,
          "yanchor": "bottom",
          "yref": "paper"
         },
         {
          "font": {},
          "showarrow": false,
          "text": "facet_col=4",
          "x": 0.6275,
          "xanchor": "center",
          "xref": "paper",
          "y": 1,
          "yanchor": "bottom",
          "yref": "paper"
         },
         {
          "font": {},
          "showarrow": false,
          "text": "facet_col=5",
          "x": 0.8824999999999998,
          "xanchor": "center",
          "xref": "paper",
          "y": 1,
          "yanchor": "bottom",
          "yref": "paper"
         }
        ],
        "legend": {
         "tracegroupgap": 0
        },
        "margin": {
         "t": 60
        },
        "template": {
         "data": {
          "bar": [
           {
            "error_x": {
             "color": "#2a3f5f"
            },
            "error_y": {
             "color": "#2a3f5f"
            },
            "marker": {
             "line": {
              "color": "#E5ECF6",
              "width": 0.5
             },
             "pattern": {
              "fillmode": "overlay",
              "size": 10,
              "solidity": 0.2
             }
            },
            "type": "bar"
           }
          ],
          "barpolar": [
           {
            "marker": {
             "line": {
              "color": "#E5ECF6",
              "width": 0.5
             },
             "pattern": {
              "fillmode": "overlay",
              "size": 10,
              "solidity": 0.2
             }
            },
            "type": "barpolar"
           }
          ],
          "carpet": [
           {
            "aaxis": {
             "endlinecolor": "#2a3f5f",
             "gridcolor": "white",
             "linecolor": "white",
             "minorgridcolor": "white",
             "startlinecolor": "#2a3f5f"
            },
            "baxis": {
             "endlinecolor": "#2a3f5f",
             "gridcolor": "white",
             "linecolor": "white",
             "minorgridcolor": "white",
             "startlinecolor": "#2a3f5f"
            },
            "type": "carpet"
           }
          ],
          "choropleth": [
           {
            "colorbar": {
             "outlinewidth": 0,
             "ticks": ""
            },
            "type": "choropleth"
           }
          ],
          "contour": [
           {
            "colorbar": {
             "outlinewidth": 0,
             "ticks": ""
            },
            "colorscale": [
             [
              0,
              "#0d0887"
             ],
             [
              0.1111111111111111,
              "#46039f"
             ],
             [
              0.2222222222222222,
              "#7201a8"
             ],
             [
              0.3333333333333333,
              "#9c179e"
             ],
             [
              0.4444444444444444,
              "#bd3786"
             ],
             [
              0.5555555555555556,
              "#d8576b"
             ],
             [
              0.6666666666666666,
              "#ed7953"
             ],
             [
              0.7777777777777778,
              "#fb9f3a"
             ],
             [
              0.8888888888888888,
              "#fdca26"
             ],
             [
              1,
              "#f0f921"
             ]
            ],
            "type": "contour"
           }
          ],
          "contourcarpet": [
           {
            "colorbar": {
             "outlinewidth": 0,
             "ticks": ""
            },
            "type": "contourcarpet"
           }
          ],
          "heatmap": [
           {
            "colorbar": {
             "outlinewidth": 0,
             "ticks": ""
            },
            "colorscale": [
             [
              0,
              "#0d0887"
             ],
             [
              0.1111111111111111,
              "#46039f"
             ],
             [
              0.2222222222222222,
              "#7201a8"
             ],
             [
              0.3333333333333333,
              "#9c179e"
             ],
             [
              0.4444444444444444,
              "#bd3786"
             ],
             [
              0.5555555555555556,
              "#d8576b"
             ],
             [
              0.6666666666666666,
              "#ed7953"
             ],
             [
              0.7777777777777778,
              "#fb9f3a"
             ],
             [
              0.8888888888888888,
              "#fdca26"
             ],
             [
              1,
              "#f0f921"
             ]
            ],
            "type": "heatmap"
           }
          ],
          "heatmapgl": [
           {
            "colorbar": {
             "outlinewidth": 0,
             "ticks": ""
            },
            "colorscale": [
             [
              0,
              "#0d0887"
             ],
             [
              0.1111111111111111,
              "#46039f"
             ],
             [
              0.2222222222222222,
              "#7201a8"
             ],
             [
              0.3333333333333333,
              "#9c179e"
             ],
             [
              0.4444444444444444,
              "#bd3786"
             ],
             [
              0.5555555555555556,
              "#d8576b"
             ],
             [
              0.6666666666666666,
              "#ed7953"
             ],
             [
              0.7777777777777778,
              "#fb9f3a"
             ],
             [
              0.8888888888888888,
              "#fdca26"
             ],
             [
              1,
              "#f0f921"
             ]
            ],
            "type": "heatmapgl"
           }
          ],
          "histogram": [
           {
            "marker": {
             "pattern": {
              "fillmode": "overlay",
              "size": 10,
              "solidity": 0.2
             }
            },
            "type": "histogram"
           }
          ],
          "histogram2d": [
           {
            "colorbar": {
             "outlinewidth": 0,
             "ticks": ""
            },
            "colorscale": [
             [
              0,
              "#0d0887"
             ],
             [
              0.1111111111111111,
              "#46039f"
             ],
             [
              0.2222222222222222,
              "#7201a8"
             ],
             [
              0.3333333333333333,
              "#9c179e"
             ],
             [
              0.4444444444444444,
              "#bd3786"
             ],
             [
              0.5555555555555556,
              "#d8576b"
             ],
             [
              0.6666666666666666,
              "#ed7953"
             ],
             [
              0.7777777777777778,
              "#fb9f3a"
             ],
             [
              0.8888888888888888,
              "#fdca26"
             ],
             [
              1,
              "#f0f921"
             ]
            ],
            "type": "histogram2d"
           }
          ],
          "histogram2dcontour": [
           {
            "colorbar": {
             "outlinewidth": 0,
             "ticks": ""
            },
            "colorscale": [
             [
              0,
              "#0d0887"
             ],
             [
              0.1111111111111111,
              "#46039f"
             ],
             [
              0.2222222222222222,
              "#7201a8"
             ],
             [
              0.3333333333333333,
              "#9c179e"
             ],
             [
              0.4444444444444444,
              "#bd3786"
             ],
             [
              0.5555555555555556,
              "#d8576b"
             ],
             [
              0.6666666666666666,
              "#ed7953"
             ],
             [
              0.7777777777777778,
              "#fb9f3a"
             ],
             [
              0.8888888888888888,
              "#fdca26"
             ],
             [
              1,
              "#f0f921"
             ]
            ],
            "type": "histogram2dcontour"
           }
          ],
          "mesh3d": [
           {
            "colorbar": {
             "outlinewidth": 0,
             "ticks": ""
            },
            "type": "mesh3d"
           }
          ],
          "parcoords": [
           {
            "line": {
             "colorbar": {
              "outlinewidth": 0,
              "ticks": ""
             }
            },
            "type": "parcoords"
           }
          ],
          "pie": [
           {
            "automargin": true,
            "type": "pie"
           }
          ],
          "scatter": [
           {
            "marker": {
             "colorbar": {
              "outlinewidth": 0,
              "ticks": ""
             }
            },
            "type": "scatter"
           }
          ],
          "scatter3d": [
           {
            "line": {
             "colorbar": {
              "outlinewidth": 0,
              "ticks": ""
             }
            },
            "marker": {
             "colorbar": {
              "outlinewidth": 0,
              "ticks": ""
             }
            },
            "type": "scatter3d"
           }
          ],
          "scattercarpet": [
           {
            "marker": {
             "colorbar": {
              "outlinewidth": 0,
              "ticks": ""
             }
            },
            "type": "scattercarpet"
           }
          ],
          "scattergeo": [
           {
            "marker": {
             "colorbar": {
              "outlinewidth": 0,
              "ticks": ""
             }
            },
            "type": "scattergeo"
           }
          ],
          "scattergl": [
           {
            "marker": {
             "colorbar": {
              "outlinewidth": 0,
              "ticks": ""
             }
            },
            "type": "scattergl"
           }
          ],
          "scattermapbox": [
           {
            "marker": {
             "colorbar": {
              "outlinewidth": 0,
              "ticks": ""
             }
            },
            "type": "scattermapbox"
           }
          ],
          "scatterpolar": [
           {
            "marker": {
             "colorbar": {
              "outlinewidth": 0,
              "ticks": ""
             }
            },
            "type": "scatterpolar"
           }
          ],
          "scatterpolargl": [
           {
            "marker": {
             "colorbar": {
              "outlinewidth": 0,
              "ticks": ""
             }
            },
            "type": "scatterpolargl"
           }
          ],
          "scatterternary": [
           {
            "marker": {
             "colorbar": {
              "outlinewidth": 0,
              "ticks": ""
             }
            },
            "type": "scatterternary"
           }
          ],
          "surface": [
           {
            "colorbar": {
             "outlinewidth": 0,
             "ticks": ""
            },
            "colorscale": [
             [
              0,
              "#0d0887"
             ],
             [
              0.1111111111111111,
              "#46039f"
             ],
             [
              0.2222222222222222,
              "#7201a8"
             ],
             [
              0.3333333333333333,
              "#9c179e"
             ],
             [
              0.4444444444444444,
              "#bd3786"
             ],
             [
              0.5555555555555556,
              "#d8576b"
             ],
             [
              0.6666666666666666,
              "#ed7953"
             ],
             [
              0.7777777777777778,
              "#fb9f3a"
             ],
             [
              0.8888888888888888,
              "#fdca26"
             ],
             [
              1,
              "#f0f921"
             ]
            ],
            "type": "surface"
           }
          ],
          "table": [
           {
            "cells": {
             "fill": {
              "color": "#EBF0F8"
             },
             "line": {
              "color": "white"
             }
            },
            "header": {
             "fill": {
              "color": "#C8D4E3"
             },
             "line": {
              "color": "white"
             }
            },
            "type": "table"
           }
          ]
         },
         "layout": {
          "annotationdefaults": {
           "arrowcolor": "#2a3f5f",
           "arrowhead": 0,
           "arrowwidth": 1
          },
          "autotypenumbers": "strict",
          "coloraxis": {
           "colorbar": {
            "outlinewidth": 0,
            "ticks": ""
           }
          },
          "colorscale": {
           "diverging": [
            [
             0,
             "#8e0152"
            ],
            [
             0.1,
             "#c51b7d"
            ],
            [
             0.2,
             "#de77ae"
            ],
            [
             0.3,
             "#f1b6da"
            ],
            [
             0.4,
             "#fde0ef"
            ],
            [
             0.5,
             "#f7f7f7"
            ],
            [
             0.6,
             "#e6f5d0"
            ],
            [
             0.7,
             "#b8e186"
            ],
            [
             0.8,
             "#7fbc41"
            ],
            [
             0.9,
             "#4d9221"
            ],
            [
             1,
             "#276419"
            ]
           ],
           "sequential": [
            [
             0,
             "#0d0887"
            ],
            [
             0.1111111111111111,
             "#46039f"
            ],
            [
             0.2222222222222222,
             "#7201a8"
            ],
            [
             0.3333333333333333,
             "#9c179e"
            ],
            [
             0.4444444444444444,
             "#bd3786"
            ],
            [
             0.5555555555555556,
             "#d8576b"
            ],
            [
             0.6666666666666666,
             "#ed7953"
            ],
            [
             0.7777777777777778,
             "#fb9f3a"
            ],
            [
             0.8888888888888888,
             "#fdca26"
            ],
            [
             1,
             "#f0f921"
            ]
           ],
           "sequentialminus": [
            [
             0,
             "#0d0887"
            ],
            [
             0.1111111111111111,
             "#46039f"
            ],
            [
             0.2222222222222222,
             "#7201a8"
            ],
            [
             0.3333333333333333,
             "#9c179e"
            ],
            [
             0.4444444444444444,
             "#bd3786"
            ],
            [
             0.5555555555555556,
             "#d8576b"
            ],
            [
             0.6666666666666666,
             "#ed7953"
            ],
            [
             0.7777777777777778,
             "#fb9f3a"
            ],
            [
             0.8888888888888888,
             "#fdca26"
            ],
            [
             1,
             "#f0f921"
            ]
           ]
          },
          "colorway": [
           "#636efa",
           "#EF553B",
           "#00cc96",
           "#ab63fa",
           "#FFA15A",
           "#19d3f3",
           "#FF6692",
           "#B6E880",
           "#FF97FF",
           "#FECB52"
          ],
          "font": {
           "color": "#2a3f5f"
          },
          "geo": {
           "bgcolor": "white",
           "lakecolor": "white",
           "landcolor": "#E5ECF6",
           "showlakes": true,
           "showland": true,
           "subunitcolor": "white"
          },
          "hoverlabel": {
           "align": "left"
          },
          "hovermode": "closest",
          "mapbox": {
           "style": "light"
          },
          "paper_bgcolor": "white",
          "plot_bgcolor": "#E5ECF6",
          "polar": {
           "angularaxis": {
            "gridcolor": "white",
            "linecolor": "white",
            "ticks": ""
           },
           "bgcolor": "#E5ECF6",
           "radialaxis": {
            "gridcolor": "white",
            "linecolor": "white",
            "ticks": ""
           }
          },
          "scene": {
           "xaxis": {
            "backgroundcolor": "#E5ECF6",
            "gridcolor": "white",
            "gridwidth": 2,
            "linecolor": "white",
            "showbackground": true,
            "ticks": "",
            "zerolinecolor": "white"
           },
           "yaxis": {
            "backgroundcolor": "#E5ECF6",
            "gridcolor": "white",
            "gridwidth": 2,
            "linecolor": "white",
            "showbackground": true,
            "ticks": "",
            "zerolinecolor": "white"
           },
           "zaxis": {
            "backgroundcolor": "#E5ECF6",
            "gridcolor": "white",
            "gridwidth": 2,
            "linecolor": "white",
            "showbackground": true,
            "ticks": "",
            "zerolinecolor": "white"
           }
          },
          "shapedefaults": {
           "line": {
            "color": "#2a3f5f"
           }
          },
          "ternary": {
           "aaxis": {
            "gridcolor": "white",
            "linecolor": "white",
            "ticks": ""
           },
           "baxis": {
            "gridcolor": "white",
            "linecolor": "white",
            "ticks": ""
           },
           "bgcolor": "#E5ECF6",
           "caxis": {
            "gridcolor": "white",
            "linecolor": "white",
            "ticks": ""
           }
          },
          "title": {
           "x": 0.05
          },
          "xaxis": {
           "automargin": true,
           "gridcolor": "white",
           "linecolor": "white",
           "ticks": "",
           "title": {
            "standoff": 15
           },
           "zerolinecolor": "white",
           "zerolinewidth": 2
          },
          "yaxis": {
           "automargin": true,
           "gridcolor": "white",
           "linecolor": "white",
           "ticks": "",
           "title": {
            "standoff": 15
           },
           "zerolinecolor": "white",
           "zerolinewidth": 2
          }
         }
        },
        "xaxis": {
         "anchor": "y",
         "domain": [
          0,
          0.235
         ],
         "title": {
          "text": "x"
         }
        },
        "xaxis2": {
         "anchor": "y2",
         "domain": [
          0.255,
          0.49
         ],
         "matches": "x",
         "title": {
          "text": "x"
         }
        },
        "xaxis3": {
         "anchor": "y3",
         "domain": [
          0.51,
          0.745
         ],
         "matches": "x",
         "title": {
          "text": "x"
         }
        },
        "xaxis4": {
         "anchor": "y4",
         "domain": [
          0.7649999999999999,
          0.9999999999999999
         ],
         "matches": "x",
         "title": {
          "text": "x"
         }
        },
        "yaxis": {
         "anchor": "x",
         "domain": [
          0,
          1
         ],
         "title": {
          "text": "y"
         }
        },
        "yaxis2": {
         "anchor": "x2",
         "domain": [
          0,
          1
         ],
         "matches": "y",
         "showticklabels": false
        },
        "yaxis3": {
         "anchor": "x3",
         "domain": [
          0,
          1
         ],
         "matches": "y",
         "showticklabels": false
        },
        "yaxis4": {
         "anchor": "x4",
         "domain": [
          0,
          1
         ],
         "matches": "y",
         "showticklabels": false
        }
       }
      },
      "text/html": [
       "<div>                            <div id=\"1985707a-d396-41da-9ee1-e40c2ea105d7\" class=\"plotly-graph-div\" style=\"height:525px; width:100%;\"></div>            <script type=\"text/javascript\">                require([\"plotly\"], function(Plotly) {                    window.PLOTLYENV=window.PLOTLYENV || {};                                    if (document.getElementById(\"1985707a-d396-41da-9ee1-e40c2ea105d7\")) {                    Plotly.newPlot(                        \"1985707a-d396-41da-9ee1-e40c2ea105d7\",                        [{\"hovertemplate\":\"facet_col=3<br>x=%{x}<br>y=%{y}<extra></extra>\",\"legendgroup\":\"\",\"line\":{\"color\":\"#636efa\",\"dash\":\"solid\"},\"marker\":{\"symbol\":\"circle\"},\"mode\":\"lines\",\"name\":\"\",\"orientation\":\"v\",\"showlegend\":false,\"x\":[\"2021-12-18\",\"2021-12-06\",\"2021-12-02\",\"2021-11-16\",\"2021-11-12\",\"2021-10-17\",\"2021-09-30\",\"2021-09-22\",\"2021-07-29\",\"2021-07-22\",\"2021-05-25\",\"2021-05-21\",\"2021-04-23\",\"2021-04-09\",\"2021-03-13\",\"2021-02-22\",\"2021-02-15\",\"2021-01-31\",\"2021-01-21\",\"2021-01-18\",\"2021-01-14\",\"2020-12-17\",\"2020-12-07\",\"2020-11-20\",\"2020-09-17\",\"2020-09-14\",\"2020-09-12\",\"2020-09-04\",\"2020-09-02\",\"2020-08-27\",\"2020-08-23\",\"2020-08-11\",\"2020-08-07\",\"2020-08-07\",\"2020-08-06\",\"2020-08-02\",\"2020-07-26\",\"2020-07-26\",\"2020-07-23\",\"2020-07-22\",\"2020-07-20\",\"2020-07-17\",\"2020-07-15\",\"2020-07-10\",\"2020-07-09\",\"2020-07-09\",\"2020-07-04\",\"2020-06-26\",\"2020-06-25\",\"2020-06-17\",\"2020-06-14\",\"2020-06-14\",\"2020-06-13\",\"2020-06-07\",\"2020-06-02\",\"2020-05-30\",\"2020-05-25\",\"2020-05-19\",\"2020-05-17\",\"2020-05-16\",\"2020-05-15\",\"2020-05-14\",\"2020-05-05\",\"2020-05-05\",\"2020-02-16\",\"2020-03-03\",\"2020-03-07\",\"2020-03-14\",\"2020-03-23\",\"2020-03-29\",\"2020-04-04\",\"2020-04-04\",\"2020-04-09\",\"2020-04-14\",\"2020-04-17\",\"2020-04-19\",\"2020-04-24\",\"2020-04-25\",\"2020-04-25\",\"2020-04-25\",\"2020-04-28\",\"2020-04-30\"],\"xaxis\":\"x\",\"y\":[0.375,0.4117647058823529,0.31,0.3488372093023256,0.3923076923076923,0.1595744680851064,0.13333333333333333,0.53125,0.32673267326732675,0.24509803921568626,0.136986301369863,0.06976744186046512,0.5304347826086957,0.41739130434782606,0.2796610169491525,0.28205128205128205,0.1744186046511628,0.3076923076923077,0.39622641509433965,0.3950617283950617,0.4732142857142857,0.2647058823529412,0.16842105263157894,0.45528455284552843,0.39166666666666666,0.43333333333333335,0.47368421052631576,0.19444444444444445,0.16279069767441862,0.6544117647058824,0.415929203539823,0.18518518518518517,0.2857142857142857,0.20454545454545456,0.2830188679245283,0.4230769230769231,0.21649484536082475,0.17204301075268819,0.26666666666666666,0.35,0.3541666666666667,0.43548387096774194,0.12,0.32,0.3804347826086957,0.5208333333333334,0.24,0.26595744680851063,0.1511627906976744,0.15,0.08108108108108109,0.28378378378378377,0.18478260869565216,0.024691358024691357,0.23404255319148937,0.24,0.11235955056179775,0.27058823529411763,0.1111111111111111,0.27956989247311825,0.2980769230769231,0.25,0.21,0.08045977011494253,0.25263157894736843,0.1511627906976744,0.3125,0.21839080459770116,0.14285714285714285,0.08108108108108109,0.10344827586206896,0.16091954022988506,0.11235955056179775,0.2,0.19791666666666666,0.20512820512820512,0.1111111111111111,0.4,0.23529411764705882,0.24242424242424243,0.39,0.16831683168316833],\"yaxis\":\"y\",\"type\":\"scatter\"},{\"hovertemplate\":\"facet_col=2<br>x=%{x}<br>y=%{y}<extra></extra>\",\"legendgroup\":\"\",\"line\":{\"color\":\"#636efa\",\"dash\":\"solid\"},\"marker\":{\"symbol\":\"circle\"},\"mode\":\"lines\",\"name\":\"\",\"orientation\":\"v\",\"showlegend\":false,\"x\":[\"2021-12-11\",\"2021-11-11\",\"2021-11-10\",\"2021-09-13\",\"2021-08-27\",\"2021-05-31\",\"2020-09-17\",\"2020-09-03\",\"2020-08-29\",\"2020-08-29\",\"2020-08-11\",\"2020-08-04\",\"2020-07-31\",\"2020-07-30\",\"2020-07-29\",\"2020-07-27\",\"2020-07-24\",\"2020-07-20\",\"2020-07-16\",\"2020-07-14\",\"2020-07-10\",\"2020-07-08\",\"2020-07-07\",\"2020-07-05\",\"2020-07-05\",\"2020-07-03\",\"2020-06-29\",\"2020-06-28\",\"2020-06-19\",\"2020-06-15\",\"2020-06-08\",\"2020-06-07\",\"2020-06-05\",\"2020-05-24\",\"2020-05-23\",\"2020-05-12\",\"2020-03-07\",\"2020-04-08\",\"2020-04-25\"],\"xaxis\":\"x2\",\"y\":[0.32,0.2971014492753623,0.34210526315789475,0.4351145038167939,0.3620689655172414,0.3684210526315789,0.37593984962406013,0.1875,0.3458646616541353,0.2,0.36666666666666664,0.09375,0.2692307692307692,0.11764705882352941,0.3401015228426396,0.3401015228426396,0.171875,0.36496350364963503,0.3798449612403101,0.2713178294573643,0.13186813186813187,0.16842105263157894,0.26865671641791045,0.16326530612244897,0.2755102040816326,0.4645669291338583,0.18110236220472442,0.3706293706293706,0.304,0.2803738317757009,0.3023255813953488,0.14457831325301204,0.20588235294117646,0.19827586206896552,0.17543859649122806,0.1885245901639344,0.18110236220472442,0.18518518518518517,0.3893129770992366],\"yaxis\":\"y2\",\"type\":\"scatter\"},{\"hovertemplate\":\"facet_col=4<br>x=%{x}<br>y=%{y}<extra></extra>\",\"legendgroup\":\"\",\"line\":{\"color\":\"#636efa\",\"dash\":\"solid\"},\"marker\":{\"symbol\":\"circle\"},\"mode\":\"lines\",\"name\":\"\",\"orientation\":\"v\",\"showlegend\":false,\"x\":[\"2021-06-04\",\"2021-05-25\",\"2021-04-16\",\"2021-03-24\",\"2021-02-20\",\"2020-11-17\",\"2020-10-29\",\"2020-09-10\",\"2020-08-15\",\"2020-08-07\",\"2020-07-25\",\"2020-07-19\",\"2020-07-13\",\"2020-07-12\",\"2020-07-06\",\"2020-07-08\",\"2020-07-03\",\"2020-06-22\",\"2020-06-20\",\"2020-06-19\",\"2020-06-18\",\"2020-06-17\",\"2020-06-12\",\"2020-06-12\",\"2020-06-12\",\"2020-06-09\",\"2020-06-04\",\"2020-05-31\",\"2020-05-29\",\"2020-05-22\",\"2020-05-20\",\"2020-05-10\",\"2020-05-10\",\"2020-05-09\",\"2020-05-07\",\"2020-05-03\",\"2020-05-03\",\"2020-05-01\",\"2020-03-16\",\"2020-03-18\",\"2020-03-19\",\"2020-03-20\",\"2020-03-21\",\"2020-03-27\",\"2020-03-27\",\"2020-03-28\",\"2020-03-28\",\"2020-04-03\",\"2020-04-05\",\"2020-04-08\",\"2020-04-10\",\"2020-04-11\",\"2020-04-12\",\"2020-04-18\",\"2020-04-23\",\"2020-04-26\",\"2020-04-29\"],\"xaxis\":\"x3\",\"y\":[0.07865168539325842,0.09090909090909091,0.38028169014084506,0.25287356321839083,0.45588235294117646,0.24615384615384617,0.4111111111111111,0.41025641025641024,0.109375,0.5775862068965517,0.43636363636363634,0.017543859649122806,0.3484848484848485,0.35294117647058826,0.17391304347826086,0.5535714285714286,0.5535714285714286,0.05333333333333334,0.43023255813953487,0.2236842105263158,0.125,0.10869565217391304,0.4358974358974359,0.03125,0.203125,0.18181818181818182,0.4383561643835616,0.3333333333333333,0.075,0.07246376811594203,0.175,0.35294117647058826,0.16494845360824742,0.09722222222222222,0.46808510638297873,-0.047619047619047616,0.2345679012345679,0.4875,0.16666666666666666,0.014492753623188406,0.11267605633802817,0.10666666666666667,0.08450704225352113,0.1724137931034483,0.15517241379310345,0.1076923076923077,0.11428571428571428,0.4146341463414634,0.5192307692307693,0.18518518518518517,0.24444444444444444,0.4444444444444444,0.19672131147540983,0.34782608695652173,0.31645569620253167,0.4074074074074074,0.2],\"yaxis\":\"y3\",\"type\":\"scatter\"},{\"hovertemplate\":\"facet_col=5<br>x=%{x}<br>y=%{y}<extra></extra>\",\"legendgroup\":\"\",\"line\":{\"color\":\"#636efa\",\"dash\":\"solid\"},\"marker\":{\"symbol\":\"circle\"},\"mode\":\"lines\",\"name\":\"\",\"orientation\":\"v\",\"showlegend\":false,\"x\":[\"2020-06-13\",\"2020-05-08\",\"2020-05-08\",\"2020-03-22\",\"2020-03-30\",\"2020-04-15\",\"2020-04-19\",\"2020-04-22\"],\"xaxis\":\"x4\",\"y\":[0.208955223880597,0.31343283582089554,0.40298507462686567,0.1774193548387097,0.12307692307692308,0.05263157894736842,0.08620689655172414,0.04225352112676056],\"yaxis\":\"y4\",\"type\":\"scatter\"}],                        {\"template\":{\"data\":{\"bar\":[{\"error_x\":{\"color\":\"#2a3f5f\"},\"error_y\":{\"color\":\"#2a3f5f\"},\"marker\":{\"line\":{\"color\":\"#E5ECF6\",\"width\":0.5},\"pattern\":{\"fillmode\":\"overlay\",\"size\":10,\"solidity\":0.2}},\"type\":\"bar\"}],\"barpolar\":[{\"marker\":{\"line\":{\"color\":\"#E5ECF6\",\"width\":0.5},\"pattern\":{\"fillmode\":\"overlay\",\"size\":10,\"solidity\":0.2}},\"type\":\"barpolar\"}],\"carpet\":[{\"aaxis\":{\"endlinecolor\":\"#2a3f5f\",\"gridcolor\":\"white\",\"linecolor\":\"white\",\"minorgridcolor\":\"white\",\"startlinecolor\":\"#2a3f5f\"},\"baxis\":{\"endlinecolor\":\"#2a3f5f\",\"gridcolor\":\"white\",\"linecolor\":\"white\",\"minorgridcolor\":\"white\",\"startlinecolor\":\"#2a3f5f\"},\"type\":\"carpet\"}],\"choropleth\":[{\"colorbar\":{\"outlinewidth\":0,\"ticks\":\"\"},\"type\":\"choropleth\"}],\"contour\":[{\"colorbar\":{\"outlinewidth\":0,\"ticks\":\"\"},\"colorscale\":[[0.0,\"#0d0887\"],[0.1111111111111111,\"#46039f\"],[0.2222222222222222,\"#7201a8\"],[0.3333333333333333,\"#9c179e\"],[0.4444444444444444,\"#bd3786\"],[0.5555555555555556,\"#d8576b\"],[0.6666666666666666,\"#ed7953\"],[0.7777777777777778,\"#fb9f3a\"],[0.8888888888888888,\"#fdca26\"],[1.0,\"#f0f921\"]],\"type\":\"contour\"}],\"contourcarpet\":[{\"colorbar\":{\"outlinewidth\":0,\"ticks\":\"\"},\"type\":\"contourcarpet\"}],\"heatmap\":[{\"colorbar\":{\"outlinewidth\":0,\"ticks\":\"\"},\"colorscale\":[[0.0,\"#0d0887\"],[0.1111111111111111,\"#46039f\"],[0.2222222222222222,\"#7201a8\"],[0.3333333333333333,\"#9c179e\"],[0.4444444444444444,\"#bd3786\"],[0.5555555555555556,\"#d8576b\"],[0.6666666666666666,\"#ed7953\"],[0.7777777777777778,\"#fb9f3a\"],[0.8888888888888888,\"#fdca26\"],[1.0,\"#f0f921\"]],\"type\":\"heatmap\"}],\"heatmapgl\":[{\"colorbar\":{\"outlinewidth\":0,\"ticks\":\"\"},\"colorscale\":[[0.0,\"#0d0887\"],[0.1111111111111111,\"#46039f\"],[0.2222222222222222,\"#7201a8\"],[0.3333333333333333,\"#9c179e\"],[0.4444444444444444,\"#bd3786\"],[0.5555555555555556,\"#d8576b\"],[0.6666666666666666,\"#ed7953\"],[0.7777777777777778,\"#fb9f3a\"],[0.8888888888888888,\"#fdca26\"],[1.0,\"#f0f921\"]],\"type\":\"heatmapgl\"}],\"histogram\":[{\"marker\":{\"pattern\":{\"fillmode\":\"overlay\",\"size\":10,\"solidity\":0.2}},\"type\":\"histogram\"}],\"histogram2d\":[{\"colorbar\":{\"outlinewidth\":0,\"ticks\":\"\"},\"colorscale\":[[0.0,\"#0d0887\"],[0.1111111111111111,\"#46039f\"],[0.2222222222222222,\"#7201a8\"],[0.3333333333333333,\"#9c179e\"],[0.4444444444444444,\"#bd3786\"],[0.5555555555555556,\"#d8576b\"],[0.6666666666666666,\"#ed7953\"],[0.7777777777777778,\"#fb9f3a\"],[0.8888888888888888,\"#fdca26\"],[1.0,\"#f0f921\"]],\"type\":\"histogram2d\"}],\"histogram2dcontour\":[{\"colorbar\":{\"outlinewidth\":0,\"ticks\":\"\"},\"colorscale\":[[0.0,\"#0d0887\"],[0.1111111111111111,\"#46039f\"],[0.2222222222222222,\"#7201a8\"],[0.3333333333333333,\"#9c179e\"],[0.4444444444444444,\"#bd3786\"],[0.5555555555555556,\"#d8576b\"],[0.6666666666666666,\"#ed7953\"],[0.7777777777777778,\"#fb9f3a\"],[0.8888888888888888,\"#fdca26\"],[1.0,\"#f0f921\"]],\"type\":\"histogram2dcontour\"}],\"mesh3d\":[{\"colorbar\":{\"outlinewidth\":0,\"ticks\":\"\"},\"type\":\"mesh3d\"}],\"parcoords\":[{\"line\":{\"colorbar\":{\"outlinewidth\":0,\"ticks\":\"\"}},\"type\":\"parcoords\"}],\"pie\":[{\"automargin\":true,\"type\":\"pie\"}],\"scatter\":[{\"marker\":{\"colorbar\":{\"outlinewidth\":0,\"ticks\":\"\"}},\"type\":\"scatter\"}],\"scatter3d\":[{\"line\":{\"colorbar\":{\"outlinewidth\":0,\"ticks\":\"\"}},\"marker\":{\"colorbar\":{\"outlinewidth\":0,\"ticks\":\"\"}},\"type\":\"scatter3d\"}],\"scattercarpet\":[{\"marker\":{\"colorbar\":{\"outlinewidth\":0,\"ticks\":\"\"}},\"type\":\"scattercarpet\"}],\"scattergeo\":[{\"marker\":{\"colorbar\":{\"outlinewidth\":0,\"ticks\":\"\"}},\"type\":\"scattergeo\"}],\"scattergl\":[{\"marker\":{\"colorbar\":{\"outlinewidth\":0,\"ticks\":\"\"}},\"type\":\"scattergl\"}],\"scattermapbox\":[{\"marker\":{\"colorbar\":{\"outlinewidth\":0,\"ticks\":\"\"}},\"type\":\"scattermapbox\"}],\"scatterpolar\":[{\"marker\":{\"colorbar\":{\"outlinewidth\":0,\"ticks\":\"\"}},\"type\":\"scatterpolar\"}],\"scatterpolargl\":[{\"marker\":{\"colorbar\":{\"outlinewidth\":0,\"ticks\":\"\"}},\"type\":\"scatterpolargl\"}],\"scatterternary\":[{\"marker\":{\"colorbar\":{\"outlinewidth\":0,\"ticks\":\"\"}},\"type\":\"scatterternary\"}],\"surface\":[{\"colorbar\":{\"outlinewidth\":0,\"ticks\":\"\"},\"colorscale\":[[0.0,\"#0d0887\"],[0.1111111111111111,\"#46039f\"],[0.2222222222222222,\"#7201a8\"],[0.3333333333333333,\"#9c179e\"],[0.4444444444444444,\"#bd3786\"],[0.5555555555555556,\"#d8576b\"],[0.6666666666666666,\"#ed7953\"],[0.7777777777777778,\"#fb9f3a\"],[0.8888888888888888,\"#fdca26\"],[1.0,\"#f0f921\"]],\"type\":\"surface\"}],\"table\":[{\"cells\":{\"fill\":{\"color\":\"#EBF0F8\"},\"line\":{\"color\":\"white\"}},\"header\":{\"fill\":{\"color\":\"#C8D4E3\"},\"line\":{\"color\":\"white\"}},\"type\":\"table\"}]},\"layout\":{\"annotationdefaults\":{\"arrowcolor\":\"#2a3f5f\",\"arrowhead\":0,\"arrowwidth\":1},\"autotypenumbers\":\"strict\",\"coloraxis\":{\"colorbar\":{\"outlinewidth\":0,\"ticks\":\"\"}},\"colorscale\":{\"diverging\":[[0,\"#8e0152\"],[0.1,\"#c51b7d\"],[0.2,\"#de77ae\"],[0.3,\"#f1b6da\"],[0.4,\"#fde0ef\"],[0.5,\"#f7f7f7\"],[0.6,\"#e6f5d0\"],[0.7,\"#b8e186\"],[0.8,\"#7fbc41\"],[0.9,\"#4d9221\"],[1,\"#276419\"]],\"sequential\":[[0.0,\"#0d0887\"],[0.1111111111111111,\"#46039f\"],[0.2222222222222222,\"#7201a8\"],[0.3333333333333333,\"#9c179e\"],[0.4444444444444444,\"#bd3786\"],[0.5555555555555556,\"#d8576b\"],[0.6666666666666666,\"#ed7953\"],[0.7777777777777778,\"#fb9f3a\"],[0.8888888888888888,\"#fdca26\"],[1.0,\"#f0f921\"]],\"sequentialminus\":[[0.0,\"#0d0887\"],[0.1111111111111111,\"#46039f\"],[0.2222222222222222,\"#7201a8\"],[0.3333333333333333,\"#9c179e\"],[0.4444444444444444,\"#bd3786\"],[0.5555555555555556,\"#d8576b\"],[0.6666666666666666,\"#ed7953\"],[0.7777777777777778,\"#fb9f3a\"],[0.8888888888888888,\"#fdca26\"],[1.0,\"#f0f921\"]]},\"colorway\":[\"#636efa\",\"#EF553B\",\"#00cc96\",\"#ab63fa\",\"#FFA15A\",\"#19d3f3\",\"#FF6692\",\"#B6E880\",\"#FF97FF\",\"#FECB52\"],\"font\":{\"color\":\"#2a3f5f\"},\"geo\":{\"bgcolor\":\"white\",\"lakecolor\":\"white\",\"landcolor\":\"#E5ECF6\",\"showlakes\":true,\"showland\":true,\"subunitcolor\":\"white\"},\"hoverlabel\":{\"align\":\"left\"},\"hovermode\":\"closest\",\"mapbox\":{\"style\":\"light\"},\"paper_bgcolor\":\"white\",\"plot_bgcolor\":\"#E5ECF6\",\"polar\":{\"angularaxis\":{\"gridcolor\":\"white\",\"linecolor\":\"white\",\"ticks\":\"\"},\"bgcolor\":\"#E5ECF6\",\"radialaxis\":{\"gridcolor\":\"white\",\"linecolor\":\"white\",\"ticks\":\"\"}},\"scene\":{\"xaxis\":{\"backgroundcolor\":\"#E5ECF6\",\"gridcolor\":\"white\",\"gridwidth\":2,\"linecolor\":\"white\",\"showbackground\":true,\"ticks\":\"\",\"zerolinecolor\":\"white\"},\"yaxis\":{\"backgroundcolor\":\"#E5ECF6\",\"gridcolor\":\"white\",\"gridwidth\":2,\"linecolor\":\"white\",\"showbackground\":true,\"ticks\":\"\",\"zerolinecolor\":\"white\"},\"zaxis\":{\"backgroundcolor\":\"#E5ECF6\",\"gridcolor\":\"white\",\"gridwidth\":2,\"linecolor\":\"white\",\"showbackground\":true,\"ticks\":\"\",\"zerolinecolor\":\"white\"}},\"shapedefaults\":{\"line\":{\"color\":\"#2a3f5f\"}},\"ternary\":{\"aaxis\":{\"gridcolor\":\"white\",\"linecolor\":\"white\",\"ticks\":\"\"},\"baxis\":{\"gridcolor\":\"white\",\"linecolor\":\"white\",\"ticks\":\"\"},\"bgcolor\":\"#E5ECF6\",\"caxis\":{\"gridcolor\":\"white\",\"linecolor\":\"white\",\"ticks\":\"\"}},\"title\":{\"x\":0.05},\"xaxis\":{\"automargin\":true,\"gridcolor\":\"white\",\"linecolor\":\"white\",\"ticks\":\"\",\"title\":{\"standoff\":15},\"zerolinecolor\":\"white\",\"zerolinewidth\":2},\"yaxis\":{\"automargin\":true,\"gridcolor\":\"white\",\"linecolor\":\"white\",\"ticks\":\"\",\"title\":{\"standoff\":15},\"zerolinecolor\":\"white\",\"zerolinewidth\":2}}},\"xaxis\":{\"anchor\":\"y\",\"domain\":[0.0,0.235],\"title\":{\"text\":\"x\"}},\"yaxis\":{\"anchor\":\"x\",\"domain\":[0.0,1.0],\"title\":{\"text\":\"y\"}},\"xaxis2\":{\"anchor\":\"y2\",\"domain\":[0.255,0.49],\"matches\":\"x\",\"title\":{\"text\":\"x\"}},\"yaxis2\":{\"anchor\":\"x2\",\"domain\":[0.0,1.0],\"matches\":\"y\",\"showticklabels\":false},\"xaxis3\":{\"anchor\":\"y3\",\"domain\":[0.51,0.745],\"matches\":\"x\",\"title\":{\"text\":\"x\"}},\"yaxis3\":{\"anchor\":\"x3\",\"domain\":[0.0,1.0],\"matches\":\"y\",\"showticklabels\":false},\"xaxis4\":{\"anchor\":\"y4\",\"domain\":[0.7649999999999999,0.9999999999999999],\"matches\":\"x\",\"title\":{\"text\":\"x\"}},\"yaxis4\":{\"anchor\":\"x4\",\"domain\":[0.0,1.0],\"matches\":\"y\",\"showticklabels\":false},\"annotations\":[{\"font\":{},\"showarrow\":false,\"text\":\"facet_col=3\",\"x\":0.1175,\"xanchor\":\"center\",\"xref\":\"paper\",\"y\":1.0,\"yanchor\":\"bottom\",\"yref\":\"paper\"},{\"font\":{},\"showarrow\":false,\"text\":\"facet_col=2\",\"x\":0.3725,\"xanchor\":\"center\",\"xref\":\"paper\",\"y\":1.0,\"yanchor\":\"bottom\",\"yref\":\"paper\"},{\"font\":{},\"showarrow\":false,\"text\":\"facet_col=4\",\"x\":0.6275,\"xanchor\":\"center\",\"xref\":\"paper\",\"y\":1.0,\"yanchor\":\"bottom\",\"yref\":\"paper\"},{\"font\":{},\"showarrow\":false,\"text\":\"facet_col=5\",\"x\":0.8824999999999998,\"xanchor\":\"center\",\"xref\":\"paper\",\"y\":1.0,\"yanchor\":\"bottom\",\"yref\":\"paper\"}],\"legend\":{\"tracegroupgap\":0},\"margin\":{\"t\":60}},                        {\"responsive\": true}                    ).then(function(){\n",
       "                            \n",
       "var gd = document.getElementById('1985707a-d396-41da-9ee1-e40c2ea105d7');\n",
       "var x = new MutationObserver(function (mutations, observer) {{\n",
       "        var display = window.getComputedStyle(gd).display;\n",
       "        if (!display || display === 'none') {{\n",
       "            console.log([gd, 'removed!']);\n",
       "            Plotly.purge(gd);\n",
       "            observer.disconnect();\n",
       "        }}\n",
       "}});\n",
       "\n",
       "// Listen for the removal of the full notebook cells\n",
       "var notebookContainer = gd.closest('#notebook-container');\n",
       "if (notebookContainer) {{\n",
       "    x.observe(notebookContainer, {childList: true});\n",
       "}}\n",
       "\n",
       "// Listen for the clearing of the current output cell\n",
       "var outputEl = gd.closest('.output');\n",
       "if (outputEl) {{\n",
       "    x.observe(outputEl, {childList: true});\n",
       "}}\n",
       "\n",
       "                        })                };                });            </script>        </div>"
      ]
     },
     "metadata": {},
     "output_type": "display_data"
    }
   ],
   "source": [
    "# points from cards by the winner\n",
    "\n",
    "# fig = make_subplots(rows=1, cols=4, subplot_titles=[f'{i}-player' for i in sorted(df.num_players.unique())])\n",
    "\n",
    "fig = px.line(x=df[df.is_winner==1][\"date\"]\n",
    "    , y=df[df.is_winner==1][\"card_points\"]/df[df.is_winner==1][\"total_points\"]\n",
    "    , facet_col=df[df.is_winner==1]['num_players'])\n",
    "fig"
   ]
  },
  {
   "cell_type": "code",
   "execution_count": 11,
   "metadata": {},
   "outputs": [
    {
     "data": {
      "text/plain": [
       "[<matplotlib.lines.Line2D at 0x7f7fd83d7438>]"
      ]
     },
     "execution_count": 11,
     "metadata": {},
     "output_type": "execute_result"
    },
    {
     "data": {
      "image/png": "[encoded data removed]",
      "text/plain": [
       "<Figure size 432x288 with 1 Axes>"
      ]
     },
     "metadata": {
      "needs_background": "light"
     },
     "output_type": "display_data"
    }
   ],
   "source": [
    "winner_df_n_players = df[(df.is_winner==1) & (df.num_players==2)]\n",
    "\n",
    "fig, ax = plt.subplots(1,1)\n",
    "ax.plot(winner_df_n_players.date, winner_df_n_players.card_points/winner_df_n_players.total_points)"
   ]
  },
  {
   "cell_type": "code",
   "execution_count": null,
   "metadata": {},
   "outputs": [],
   "source": []
  },
  {
   "cell_type": "markdown",
   "metadata": {},
   "source": [
    "# Player ELO"
   ]
  },
  {
   "cell_type": "code",
   "execution_count": null,
   "metadata": {},
   "outputs": [],
   "source": [
    "# https://towardsdatascience.com/developing-a-generalized-elo-rating-system-for-multiplayer-games-b9b495e87802\n",
    "\n",
    "# scoring functions\n",
    "def linear_score(p, n):\n",
    "    '''\n",
    "    Args:\n",
    "        p : int \n",
    "            Finishing place\n",
    "        n : int \n",
    "            # of players\n",
    "    '''\n",
    "    return (n-p)/ (n*(n-1)/2)\n",
    "\n",
    "def exp_score(p, n, alpha=2.):\n",
    "    '''\n",
    "    Args:\n",
    "        p : int \n",
    "            Finishing place\n",
    "        n : int \n",
    "            # of players\n",
    "        alpha : exists in (1,inf)'''\n",
    "    return (alpha**(n-p) - 1) / np.sum([(alpha**(n-i) - 1) for i in range(1,n)])\n",
    "\n",
    "# expected score\n",
    "def expected_score(s, player, n, d=400):\n",
    "    '''\n",
    "    Args:\n",
    "        s : dict\n",
    "            Players scores, ex.: {'Tony': 90, 'Pat': 80, ...}\n",
    "        player : str\n",
    "            Player of interest\n",
    "        n : int \n",
    "            # of players\n",
    "    '''\n",
    "    return np.sum([(1/(1+10**((s[i] - s[player])/d))) if i != player else 0 for i in s.keys()])/(n*(n-1)/2)\n",
    "\n",
    "def update_rating(current_rating, expected_score, actual_score, n, k=32):\n",
    "    '''\n",
    "    Args:\n",
    "        current_rating : int\n",
    "        expected_score : float\n",
    "        actual_score : float\n",
    "        n : int\n",
    "            # of players\n",
    "        k : int\n",
    "    '''\n",
    "    return current_rating + k*(n-1)*(actual_score-expected_score)"
   ]
  },
  {
   "cell_type": "code",
   "execution_count": null,
   "metadata": {},
   "outputs": [],
   "source": [
    "player_ratings = {player: {1: {'date':(min(pd.to_datetime(df.date)) - pd.Timedelta(days=1)),\n",
    "                               'rating':1000}} for player in df.player.unique()}\n",
    "current_ratings = {player: 1000 for player in df.player.unique()}\n",
    "i = 2\n",
    "\n",
    "for game_id in unique_sorted_game_ids:\n",
    "    game_df = df[df['game_id'] == game_id]\n",
    "    \n",
    "    new_ratings = {}\n",
    "    current_ratings_active_players = {player: rating for player, rating in current_ratings.items() if player in game_df.player.unique()}\n",
    "\n",
    "    for player, place, date in zip(game_df.player, game_df.place, game_df.date):\n",
    "        expected = expected_score(s=current_ratings_active_players, player=player, n=game_df.shape[0])\n",
    "        observed = exp_score(p=place, n=game_df.shape[0])\n",
    "        updated =  update_rating(current_rating=current_ratings_active_players[player], \n",
    "                                 expected_score=expected, \n",
    "                                 actual_score=observed, \n",
    "                                 n=game_df.shape[0])\n",
    "        new_ratings[player] = {'previous': current_ratings_active_players[player],\n",
    "                               'expected': expected,\n",
    "                               'observed': observed,\n",
    "                               'updated_rating': updated}\n",
    "\n",
    "    for player in current_ratings.keys():\n",
    "            if player in new_ratings.keys(): # player played in current game\n",
    "                current_ratings[player] = new_ratings[player]['updated_rating']\n",
    "                player_ratings[player][i] = {'date': pd.to_datetime(date), 'rating': new_ratings[player]['updated_rating']}\n",
    "            else: # player did not play in current game\n",
    "                player_ratings[player][i] = {'date': pd.to_datetime(date), 'rating': current_ratings[player]}\n",
    "    \n",
    "    i += 1\n",
    "    \n",
    "player_rating_dfs_list = [pd.DataFrame(player_ratings[player]).T.reset_index().assign(player=player)\\\n",
    "                          for player in player_ratings.keys()]\n",
    "player_ratings_df = pd.concat(player_rating_dfs_list)\n",
    "player_ratings_df.columns = ['game_number','date','rating','player']\n"
   ]
  },
  {
   "cell_type": "code",
   "execution_count": null,
   "metadata": {},
   "outputs": [],
   "source": [
    "fig, ax = plt.subplots(1,1, figsize=(20,10))\n",
    "\n",
    "for player in ['Ben','Ezra','Matt','Pat','Tony']:#player_ratings_df.player.unique():\n",
    "    player_rating_df = player_ratings_df[player_ratings_df['player']==player]\n",
    "    ax.plot(player_rating_df.date, player_rating_df.rating, label=player)\n",
    "ax.legend()\n",
    "ax.set_title('Player Ratings');"
   ]
  },
  {
   "cell_type": "markdown",
   "metadata": {},
   "source": [
    "# Corporation ELO"
   ]
  },
  {
   "cell_type": "code",
   "execution_count": null,
   "metadata": {},
   "outputs": [],
   "source": [
    "corp_ratings = {corp: {1: {'date':(min(pd.to_datetime(df.date)) - pd.Timedelta(days=1)),\n",
    "                             'rating':1000}} for corp in df.corporation.unique()}\n",
    "current_ratings = {corp: 1000 for corp in df.corporation.unique()}\n",
    "i = 2\n",
    "\n",
    "for game_id in unique_sorted_game_ids:\n",
    "    game_df = df[df['game_id'] == game_id]\n",
    "    game_df['place'] = game_df['total_points'].rank(ascending=False)\n",
    "    \n",
    "    new_ratings = {}\n",
    "    current_ratings_active_corps = {corp: rating for corp, rating in current_ratings.items() if corp in game_df.corporation.unique()}\n",
    "\n",
    "    for corp, place, date in zip(game_df.corporation, game_df.place, game_df.date):\n",
    "        expected = expected_score(s=current_ratings_active_corps, player=corp, n=game_df.shape[0])\n",
    "        observed = linear_score(p=place, n=game_df.shape[0])\n",
    "        updated =  update_rating(current_rating=current_ratings_active_corps[corp], \n",
    "                                 expected_score=expected, \n",
    "                                 actual_score=observed, \n",
    "                                 n=game_df.shape[0])\n",
    "        new_ratings[corp] = {'previous': current_ratings_active_corps[corp],\n",
    "                               'expected': expected,\n",
    "                               'observed': observed,\n",
    "                               'updated_rating': updated}\n",
    "\n",
    "    for corp in current_ratings.keys():\n",
    "            if corp in new_ratings.keys(): # corp played in current game\n",
    "                current_ratings[corp] = new_ratings[corp]['updated_rating']\n",
    "                corp_ratings[corp][i] = {'date': pd.to_datetime(date), 'rating': new_ratings[corp]['updated_rating']}\n",
    "            else: # corp did not play in current game\n",
    "                corp_ratings[corp][i] = {'date': pd.to_datetime(date), 'rating': current_ratings[corp]}\n",
    "    \n",
    "    i += 1\n",
    "    \n",
    "corp_rating_dfs_list = [pd.DataFrame(corp_ratings[corp]).T.reset_index().assign(corporation=corp)\\\n",
    "                          for corp in corp_ratings.keys()]\n",
    "corp_ratings_df = pd.concat(corp_rating_dfs_list)\n",
    "corp_ratings_df.columns = ['game_number','date','rating','corporation']\n"
   ]
  },
  {
   "cell_type": "code",
   "execution_count": null,
   "metadata": {},
   "outputs": [],
   "source": [
    "fig, ax = plt.subplots(1,1, figsize=(20,15))\n",
    "\n",
    "for corp in set(df[df.corporation_origin=='Base'].corporation.unique()) - set(['Beginner']):\n",
    "    corp_rating_df = corp_ratings_df[corp_ratings_df['corporation']==corp][1:100]\n",
    "    ax.plot(corp_rating_df.date, corp_rating_df.rating, label=corp)\n",
    "ax.legend()\n",
    "ax.set_title('Corporation Ratings');"
   ]
  },
  {
   "cell_type": "code",
   "execution_count": null,
   "metadata": {},
   "outputs": [],
   "source": []
  }
 ],
 "metadata": {
  "kernelspec": {
   "display_name": "Python 3",
   "language": "python",
   "name": "python3"
  },
  "language_info": {
   "codemirror_mode": {
    "name": "ipython",
    "version": 3
   },
   "file_extension": ".py",
   "mimetype": "text/x-python",
   "name": "python",
   "nbconvert_exporter": "python",
   "pygments_lexer": "ipython3",
   "version": "3.6.8"
  }
 },
 "nbformat": 4,
 "nbformat_minor": 2
}
